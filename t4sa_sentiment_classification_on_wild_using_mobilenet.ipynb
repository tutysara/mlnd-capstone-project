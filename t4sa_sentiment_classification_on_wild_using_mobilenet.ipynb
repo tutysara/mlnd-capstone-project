{
 "cells": [
  {
   "cell_type": "code",
   "execution_count": 1,
   "metadata": {},
   "outputs": [
    {
     "name": "stderr",
     "output_type": "stream",
     "text": [
      "Using TensorFlow backend.\n",
      "/home/tutysara/anaconda2/envs/dog-project/lib/python3.6/importlib/_bootstrap.py:205: RuntimeWarning: compiletime version 3.5 of module 'tensorflow.python.framework.fast_tensor_util' does not match runtime version 3.6\n",
      "  return f(*args, **kwds)\n"
     ]
    }
   ],
   "source": [
    "from keras.utils import np_utils\n",
    "import numpy as np\n",
    "from matplotlib import pyplot\n",
    "import seaborn as sns\n",
    "%matplotlib inline\n",
    "\n",
    "# Display progress logs on stdout\n",
    "#import logging\n",
    "#logging.basicConfig(level=logging.DEBUG,\n",
    "#                    format='%(asctime)s %(levelname)s %(message)s')\n",
    "\n",
    "from sklearn.datasets import load_files\n",
    "import pandas as pd\n",
    "pd.set_option(\"display.max_colwidth\", 75)\n",
    "\n",
    "import tensorflow as tf\n",
    "config = tf.ConfigProto()\n",
    "config.gpu_options.allow_growth = True\n",
    "sess = tf.Session(config = config)"
   ]
  },
  {
   "cell_type": "raw",
   "metadata": {},
   "source": [
    "# make the csv files for dog project\n",
    "cd dogImages\n",
    "for filename in $(find train|grep .jpg); do\n",
    "    label=$(echo $filename| cut -d'/' -f 2)\n",
    "    label_num=$(echo $label| cut -d'.' -f 1)\n",
    "    echo \"$filename $label_num\"\n",
    "done"
   ]
  },
  {
   "cell_type": "raw",
   "metadata": {},
   "source": [
    "# define function to load train, test, and validation datasets\n",
    "basedir=\"/home/tutysara/src/myprojects/t4sa/data\"\n",
    "train_idx_path = basedir+ \"/b-t4sa_train.txt\"\n",
    "valid_idx_path = basedir+ \"/b-t4sa_val.txt\"\n",
    "test_idx_path = basedir+ \"/b-t4sa_test.txt\"\n",
    "\n",
    "\n",
    "col_names = [\"X\", \"y\"]\n",
    "percent = 0.15\n",
    "train_data_df = pd.read_csv(train_idx_path, sep=\" \", header=None, names=col_names)\n",
    "valid_data_df = pd.read_csv(valid_idx_path, sep=\" \", header=None, names=col_names)\n",
    "test_data_df = pd.read_csv(test_idx_path, sep=\" \", header=None, names=col_names)\n",
    "\n",
    "train_data_df = train_data_df[:int(train_data_df.shape[0]*percent)]\n",
    "valid_data_df = valid_data_df[:int(valid_data_df.shape[0]*percent)]\n",
    "test_data_df = test_data_df[:int(test_data_df.shape[0]*percent)]"
   ]
  },
  {
   "cell_type": "code",
   "execution_count": 2,
   "metadata": {
    "collapsed": true
   },
   "outputs": [],
   "source": [
    "basedir=\"/home/tutysara/src/myprojects/dog-project/dogImages\"\n",
    "train_idx_path = basedir+ \"/train_list.txt\"\n",
    "valid_idx_path = basedir+ \"/valid_list.txt\"\n",
    "test_idx_path = basedir+ \"/test_list.txt\"\n",
    "\n",
    "\n",
    "col_names = [\"X\", \"y\"]\n",
    "train_data_df = pd.read_csv(train_idx_path, sep=\" \", header=None, names=col_names)\n",
    "train_data_df.y = train_data_df.y-1\n",
    "valid_data_df = pd.read_csv(valid_idx_path, sep=\" \", header=None, names=col_names)\n",
    "valid_data_df.y = valid_data_df.y-1\n",
    "test_data_df = pd.read_csv(test_idx_path, sep=\" \", header=None, names=col_names)\n",
    "test_data_df.y = test_data_df.y-1"
   ]
  },
  {
   "cell_type": "code",
   "execution_count": 3,
   "metadata": {},
   "outputs": [
    {
     "data": {
      "text/html": [
       "<div>\n",
       "<style scoped>\n",
       "    .dataframe tbody tr th:only-of-type {\n",
       "        vertical-align: middle;\n",
       "    }\n",
       "\n",
       "    .dataframe tbody tr th {\n",
       "        vertical-align: top;\n",
       "    }\n",
       "\n",
       "    .dataframe thead th {\n",
       "        text-align: right;\n",
       "    }\n",
       "</style>\n",
       "<table border=\"1\" class=\"dataframe\">\n",
       "  <thead>\n",
       "    <tr style=\"text-align: right;\">\n",
       "      <th></th>\n",
       "      <th>X</th>\n",
       "      <th>y</th>\n",
       "    </tr>\n",
       "  </thead>\n",
       "  <tbody>\n",
       "    <tr>\n",
       "      <th>0</th>\n",
       "      <td>test/075.Glen_of_imaal_terrier/Glen_of_imaal_terrier_05148.jpg</td>\n",
       "      <td>74</td>\n",
       "    </tr>\n",
       "    <tr>\n",
       "      <th>1</th>\n",
       "      <td>test/075.Glen_of_imaal_terrier/Glen_of_imaal_terrier_05143.jpg</td>\n",
       "      <td>74</td>\n",
       "    </tr>\n",
       "    <tr>\n",
       "      <th>2</th>\n",
       "      <td>test/075.Glen_of_imaal_terrier/Glen_of_imaal_terrier_05164.jpg</td>\n",
       "      <td>74</td>\n",
       "    </tr>\n",
       "    <tr>\n",
       "      <th>3</th>\n",
       "      <td>test/075.Glen_of_imaal_terrier/Glen_of_imaal_terrier_05129.jpg</td>\n",
       "      <td>74</td>\n",
       "    </tr>\n",
       "    <tr>\n",
       "      <th>4</th>\n",
       "      <td>test/075.Glen_of_imaal_terrier/Glen_of_imaal_terrier_05149.jpg</td>\n",
       "      <td>74</td>\n",
       "    </tr>\n",
       "  </tbody>\n",
       "</table>\n",
       "</div>"
      ],
      "text/plain": [
       "                                                                X   y\n",
       "0  test/075.Glen_of_imaal_terrier/Glen_of_imaal_terrier_05148.jpg  74\n",
       "1  test/075.Glen_of_imaal_terrier/Glen_of_imaal_terrier_05143.jpg  74\n",
       "2  test/075.Glen_of_imaal_terrier/Glen_of_imaal_terrier_05164.jpg  74\n",
       "3  test/075.Glen_of_imaal_terrier/Glen_of_imaal_terrier_05129.jpg  74\n",
       "4  test/075.Glen_of_imaal_terrier/Glen_of_imaal_terrier_05149.jpg  74"
      ]
     },
     "execution_count": 3,
     "metadata": {},
     "output_type": "execute_result"
    }
   ],
   "source": [
    "test_data_df.head()"
   ]
  },
  {
   "cell_type": "code",
   "execution_count": 4,
   "metadata": {},
   "outputs": [
    {
     "name": "stdout",
     "output_type": "stream",
     "text": [
      "(6680, 2)\n",
      "(835, 2)\n",
      "(836, 2)\n",
      "8351\n"
     ]
    },
    {
     "data": {
      "text/html": [
       "<div>\n",
       "<style scoped>\n",
       "    .dataframe tbody tr th:only-of-type {\n",
       "        vertical-align: middle;\n",
       "    }\n",
       "\n",
       "    .dataframe tbody tr th {\n",
       "        vertical-align: top;\n",
       "    }\n",
       "\n",
       "    .dataframe thead th {\n",
       "        text-align: right;\n",
       "    }\n",
       "</style>\n",
       "<table border=\"1\" class=\"dataframe\">\n",
       "  <thead>\n",
       "    <tr style=\"text-align: right;\">\n",
       "      <th></th>\n",
       "      <th>X</th>\n",
       "      <th>y</th>\n",
       "    </tr>\n",
       "  </thead>\n",
       "  <tbody>\n",
       "    <tr>\n",
       "      <th>0</th>\n",
       "      <td>test/075.Glen_of_imaal_terrier/Glen_of_imaal_terrier_05148.jpg</td>\n",
       "      <td>74</td>\n",
       "    </tr>\n",
       "    <tr>\n",
       "      <th>1</th>\n",
       "      <td>test/075.Glen_of_imaal_terrier/Glen_of_imaal_terrier_05143.jpg</td>\n",
       "      <td>74</td>\n",
       "    </tr>\n",
       "    <tr>\n",
       "      <th>2</th>\n",
       "      <td>test/075.Glen_of_imaal_terrier/Glen_of_imaal_terrier_05164.jpg</td>\n",
       "      <td>74</td>\n",
       "    </tr>\n",
       "    <tr>\n",
       "      <th>3</th>\n",
       "      <td>test/075.Glen_of_imaal_terrier/Glen_of_imaal_terrier_05129.jpg</td>\n",
       "      <td>74</td>\n",
       "    </tr>\n",
       "    <tr>\n",
       "      <th>4</th>\n",
       "      <td>test/075.Glen_of_imaal_terrier/Glen_of_imaal_terrier_05149.jpg</td>\n",
       "      <td>74</td>\n",
       "    </tr>\n",
       "  </tbody>\n",
       "</table>\n",
       "</div>"
      ],
      "text/plain": [
       "                                                                X   y\n",
       "0  test/075.Glen_of_imaal_terrier/Glen_of_imaal_terrier_05148.jpg  74\n",
       "1  test/075.Glen_of_imaal_terrier/Glen_of_imaal_terrier_05143.jpg  74\n",
       "2  test/075.Glen_of_imaal_terrier/Glen_of_imaal_terrier_05164.jpg  74\n",
       "3  test/075.Glen_of_imaal_terrier/Glen_of_imaal_terrier_05129.jpg  74\n",
       "4  test/075.Glen_of_imaal_terrier/Glen_of_imaal_terrier_05149.jpg  74"
      ]
     },
     "execution_count": 4,
     "metadata": {},
     "output_type": "execute_result"
    }
   ],
   "source": [
    "print(train_data_df.shape)\n",
    "print(valid_data_df.shape)\n",
    "print(test_data_df.shape)\n",
    "\n",
    "print(train_data_df.shape[0] + valid_data_df.shape[0] + test_data_df.shape[0])\n",
    "sample_df = test_data_df[:5]\n",
    "sample_df"
   ]
  },
  {
   "cell_type": "code",
   "execution_count": 38,
   "metadata": {},
   "outputs": [
    {
     "name": "stdout",
     "output_type": "stream",
     "text": [
      "(882, 2)\n"
     ]
    },
    {
     "data": {
      "text/html": [
       "<div>\n",
       "<style scoped>\n",
       "    .dataframe tbody tr th:only-of-type {\n",
       "        vertical-align: middle;\n",
       "    }\n",
       "\n",
       "    .dataframe tbody tr th {\n",
       "        vertical-align: top;\n",
       "    }\n",
       "\n",
       "    .dataframe thead th {\n",
       "        text-align: right;\n",
       "    }\n",
       "</style>\n",
       "<table border=\"1\" class=\"dataframe\">\n",
       "  <thead>\n",
       "    <tr style=\"text-align: right;\">\n",
       "      <th></th>\n",
       "      <th>X</th>\n",
       "      <th>y</th>\n",
       "    </tr>\n",
       "  </thead>\n",
       "  <tbody>\n",
       "    <tr>\n",
       "      <th>0</th>\n",
       "      <td>/home/tutysara/src/myprojects/senti/dataset/Agg_AMT_Candidates/28800526...</td>\n",
       "      <td>0</td>\n",
       "    </tr>\n",
       "    <tr>\n",
       "      <th>1</th>\n",
       "      <td>/home/tutysara/src/myprojects/senti/dataset/Agg_AMT_Candidates/33547480...</td>\n",
       "      <td>1</td>\n",
       "    </tr>\n",
       "    <tr>\n",
       "      <th>2</th>\n",
       "      <td>/home/tutysara/src/myprojects/senti/dataset/Agg_AMT_Candidates/27176682...</td>\n",
       "      <td>1</td>\n",
       "    </tr>\n",
       "    <tr>\n",
       "      <th>3</th>\n",
       "      <td>/home/tutysara/src/myprojects/senti/dataset/Agg_AMT_Candidates/10096570...</td>\n",
       "      <td>1</td>\n",
       "    </tr>\n",
       "    <tr>\n",
       "      <th>4</th>\n",
       "      <td>/home/tutysara/src/myprojects/senti/dataset/Agg_AMT_Candidates/13247920...</td>\n",
       "      <td>1</td>\n",
       "    </tr>\n",
       "  </tbody>\n",
       "</table>\n",
       "</div>"
      ],
      "text/plain": [
       "                                                                            X  \\\n",
       "0  /home/tutysara/src/myprojects/senti/dataset/Agg_AMT_Candidates/28800526...   \n",
       "1  /home/tutysara/src/myprojects/senti/dataset/Agg_AMT_Candidates/33547480...   \n",
       "2  /home/tutysara/src/myprojects/senti/dataset/Agg_AMT_Candidates/27176682...   \n",
       "3  /home/tutysara/src/myprojects/senti/dataset/Agg_AMT_Candidates/10096570...   \n",
       "4  /home/tutysara/src/myprojects/senti/dataset/Agg_AMT_Candidates/13247920...   \n",
       "\n",
       "   y  \n",
       "0  0  \n",
       "1  1  \n",
       "2  1  \n",
       "3  1  \n",
       "4  1  "
      ]
     },
     "execution_count": 38,
     "metadata": {},
     "output_type": "execute_result"
    }
   ],
   "source": [
    "# load TTD\n",
    "ttd_basedir=\"/home/tutysara/src/myprojects/senti/dataset\"\n",
    "ttd_data_idx_path = ttd_basedir+ \"/twitter_five_agrees.txt\"\n",
    "col_names = [\"X\", \"y\"]\n",
    "ttd_data_df = pd.read_csv(ttd_data_idx_path, sep=\" \", header=None, names=col_names)\n",
    "ttd_data_df.X = ttd_data_df.X.apply(lambda x: ttd_basedir+\"/Agg_AMT_Candidates/\"+x)\n",
    "print(ttd_data_df.shape)\n",
    "ttd_data_df.head()"
   ]
  },
  {
   "cell_type": "code",
   "execution_count": 6,
   "metadata": {
    "collapsed": true
   },
   "outputs": [],
   "source": [
    "# convert and load images\n",
    "from keras.preprocessing import image                  \n",
    "from tqdm import tqdm\n",
    "from PIL import ImageFile                            \n",
    "ImageFile.LOAD_TRUNCATED_IMAGES = True\n",
    "\n",
    "def path_to_tensor(img_path):\n",
    "    # loads RGB image as PIL.Image.Image type\n",
    "    img = image.load_img(img_path, target_size=(224, 224))\n",
    "    # convert PIL.Image.Image type to 3D tensor with shape (224, 224, 3)\n",
    "    x = image.img_to_array(img)\n",
    "    # convert 3D tensor to 4D tensor with shape (1, 224, 224, 3) and return 4D tensor\n",
    "    return np.expand_dims(x, axis=0)\n",
    "\n",
    "def paths_to_tensor(img_paths):\n",
    "    list_of_tensors = [path_to_tensor(img_path) for img_path in img_paths]\n",
    "    return np.vstack(list_of_tensors)"
   ]
  },
  {
   "cell_type": "code",
   "execution_count": 7,
   "metadata": {
    "collapsed": true,
    "scrolled": true
   },
   "outputs": [],
   "source": [
    "#definition of data generator\n",
    "def df_data_generator(df, batch_size=32, num_classes=3, shuffle=False, basedir=\".\", transformer=None):    \n",
    "    while True:\n",
    "        if shuffle:\n",
    "            df = df.sample(frac=1)\n",
    "            \n",
    "        X_file_name = df.X.apply(lambda x: basedir+\"/\"+x) \n",
    "        y = np_utils.to_categorical(df.y, num_classes)\n",
    "    # infinitely serve batches\n",
    "        max_range = (1+ df.shape[0]//batch_size)\n",
    "        for i in range(max_range):\n",
    "            if transformer:\n",
    "                yield transformer(X_file_name[i*batch_size : (i+1)*batch_size]).astype('float32'), y[i*batch_size : (i+1)*batch_size]\n",
    "            else:\n",
    "                yield X_file_name[i*batch_size : (i+1)*batch_size], y[i*batch_size : (i+1)*batch_size]\n",
    "                \n",
    "\n",
    "from keras.applications.mobilenet import MobileNet\n",
    "import keras.applications.mobilenet as mobilenet\n",
    "def img_to_mobilenet_tensor_transformer(x):\n",
    "    return mobilenet.preprocess_input(paths_to_tensor(x))\n"
   ]
  },
  {
   "cell_type": "code",
   "execution_count": 10,
   "metadata": {
    "collapsed": true
   },
   "outputs": [],
   "source": [
    "import bcolz\n",
    "def bcolz_writer(gen, steps, dirname ):\n",
    "    X = None; y = None\n",
    "    data_dir = dirname + \"_data.bclz\"\n",
    "    label_dir = dirname + \"_labels.bclz\"\n",
    "    for i in range(steps):\n",
    "        X_batch, y_batch = next(gen)\n",
    "        if i== 0:\n",
    "            X = bcolz.carray(X_batch, rootdir=data_dir, mode='w')\n",
    "            y = bcolz.carray(y_batch, rootdir=label_dir, mode='w') \n",
    "        else:\n",
    "            X.append(X_batch)\n",
    "            y.append(y_batch)\n",
    "    X.flush()\n",
    "    y.flush()\n",
    "    return X, y"
   ]
  },
  {
   "cell_type": "code",
   "execution_count": 8,
   "metadata": {
    "collapsed": true
   },
   "outputs": [],
   "source": [
    "bnf_train_name = 'bottleneck_features_mobilenet_train'\n",
    "bnf_valid_name = 'bottleneck_features_mobilenet_valid'\n",
    "bnf_test_name = 'bottleneck_features_mobilenet_test' "
   ]
  },
  {
   "cell_type": "code",
   "execution_count": 9,
   "metadata": {
    "collapsed": true
   },
   "outputs": [],
   "source": [
    "mobilenet_train_name = 'mobilenet_train_data'\n",
    "mobilenet_valid_name = 'mobilenet_valid_data'\n",
    "mobilenet_test_name = 'mobilenet_test_data'"
   ]
  },
  {
   "cell_type": "code",
   "execution_count": 11,
   "metadata": {},
   "outputs": [
    {
     "name": "stdout",
     "output_type": "stream",
     "text": [
      "Took 9.897374153137207 seconds to calculate mobilenet_valid_data\n",
      "Took 9.92434811592102 seconds to calculate mobilenet_test_data\n",
      "Took 89.60999917984009 seconds to calculate mobilenet_train_data\n"
     ]
    }
   ],
   "source": [
    "## load train, test, and validation datasets\n",
    "## load and convert to bcolz format for fast reading\n",
    "\n",
    "import time\n",
    "\n",
    "batch_size=256\n",
    "num_classes = 133\n",
    "train_gen = df_data_generator(train_data_df,\n",
    "                              batch_size=batch_size, \n",
    "                              transformer=img_to_mobilenet_tensor_transformer, \n",
    "                              basedir=basedir,\n",
    "                              num_classes=num_classes)\n",
    "\n",
    "valid_gen = df_data_generator(valid_data_df,\n",
    "                              batch_size=batch_size, \n",
    "                              transformer=img_to_mobilenet_tensor_transformer, \n",
    "                              basedir=basedir,\n",
    "                              num_classes=num_classes)\n",
    "\n",
    "test_gen = df_data_generator(test_data_df,\n",
    "                             batch_size=batch_size, \n",
    "                             transformer=img_to_mobilenet_tensor_transformer, \n",
    "                             basedir=basedir,\n",
    "                             num_classes=num_classes)\n",
    "\n",
    "s= time.time()\n",
    "!rm -rf 'mobilenet_valid_data*bclz'\n",
    "mobilenet_valid_data,  mobilenet_valid_labels = bcolz_writer(gen=valid_gen, \n",
    "                        steps=(1+(valid_data_df.shape[0]//batch_size)),\n",
    "                        dirname=mobilenet_valid_name)\n",
    "print(\"Took {} seconds to calculate mobilenet_valid_data\".format(time.time()-s))\n",
    "\n",
    "s= time.time()\n",
    "!rm -rf 'mobilenet_test_data*bclz'\n",
    "mobilenet_test_data,  mobilenet_test_labels = bcolz_writer(gen=test_gen, \n",
    "                        steps=(1+(test_data_df.shape[0]//batch_size)),\n",
    "                        dirname=mobilenet_test_name)\n",
    "print(\"Took {} seconds to calculate mobilenet_test_data\".format(time.time()-s))\n",
    "\n",
    "s= time.time()\n",
    "!rm -rf 'mobilenet_train_data*bclz'\n",
    "mobilenet_train_data,  mobilenet_train_labels = bcolz_writer(gen=train_gen, \n",
    "                        steps=(1+(train_data_df.shape[0]//batch_size)),\n",
    "                        dirname=mobilenet_train_name)\n",
    "print(\"Took {} seconds to calculate mobilenet_train_data\".format(time.time()-s))"
   ]
  },
  {
   "cell_type": "code",
   "execution_count": 41,
   "metadata": {},
   "outputs": [
    {
     "name": "stdout",
     "output_type": "stream",
     "text": [
      "(835, 224, 224, 3)\n",
      "(836, 224, 224, 3)\n",
      "(6680, 224, 224, 3)\n",
      "(835, 133)\n",
      "(836, 133)\n",
      "(6680, 133)\n"
     ]
    }
   ],
   "source": [
    "print(mobilenet_valid_data.shape)\n",
    "print(mobilenet_test_data.shape)\n",
    "print(mobilenet_train_data.shape)\n",
    "\n",
    "print(mobilenet_valid_labels.shape)\n",
    "print(mobilenet_test_labels.shape)\n",
    "print(mobilenet_train_labels.shape)"
   ]
  },
  {
   "cell_type": "code",
   "execution_count": 44,
   "metadata": {},
   "outputs": [
    {
     "name": "stdout",
     "output_type": "stream",
     "text": [
      "(835, 224, 224, 3)\n",
      "(836, 224, 224, 3)\n",
      "(6680, 224, 224, 3)\n",
      "(835, 133)\n",
      "(836, 133)\n",
      "(6680, 133)\n"
     ]
    }
   ],
   "source": [
    "# read from disk and check size\n",
    "mobilenet_valid_data = bcolz.carray(rootdir= mobilenet_valid_name+'_data.bclz', mode='r')\n",
    "mobilenet_test_data = bcolz.carray(rootdir= mobilenet_test_name + '_data.bclz', mode='r')\n",
    "mobilenet_train_data = bcolz.carray(rootdir= mobilenet_train_name+ '_data.bclz', mode='r')\n",
    "\n",
    "\n",
    "mobilenet_valid_labels = bcolz.carray(rootdir= mobilenet_valid_name+'_labels.bclz', mode='r')\n",
    "mobilenet_test_labels = bcolz.carray(rootdir= mobilenet_test_name + '_labels.bclz', mode='r')\n",
    "mobilenet_train_labels = bcolz.carray(rootdir= mobilenet_train_name+ '_labels.bclz', mode='r')\n",
    "\n",
    "print(mobilenet_valid_data.shape)\n",
    "print(mobilenet_test_data.shape)\n",
    "print(mobilenet_train_data.shape)\n",
    "\n",
    "print(mobilenet_valid_labels.shape)\n",
    "print(mobilenet_test_labels.shape)\n",
    "print(mobilenet_train_labels.shape)"
   ]
  },
  {
   "cell_type": "code",
   "execution_count": 13,
   "metadata": {
    "collapsed": true
   },
   "outputs": [],
   "source": [
    "def bcolz_prediction_writer(gen, steps, model, dirname ):\n",
    "    X = None; y = None\n",
    "    data_dir = dirname + \"_data.bclz\"\n",
    "    label_dir = dirname + \"_labels.bclz\"\n",
    "    for i in range(steps):\n",
    "        X_batch, y_batch = next(gen)\n",
    "        X_out = model.predict(X_batch)\n",
    "        if i== 0:\n",
    "            X = bcolz.carray(X_out, rootdir=data_dir, mode='w')\n",
    "            y = bcolz.carray(y_batch, rootdir=label_dir, mode='w') \n",
    "        else:\n",
    "            X.append(X_out)\n",
    "            y.append(y_batch)\n",
    "    X.flush()\n",
    "    y.flush()\n",
    "    return X, y"
   ]
  },
  {
   "cell_type": "code",
   "execution_count": 14,
   "metadata": {
    "collapsed": true
   },
   "outputs": [],
   "source": [
    "def bnf_data_generator(bnf_data, bnf_labels, batch_size=32):\n",
    "    while True:\n",
    "        max_range = (1 + bnf_data.shape[0]//batch_size)\n",
    "        for i in range(max_range):\n",
    "            yield bnf_data[i*batch_size : (i+1)*batch_size], bnf_labels[i*batch_size : (i+1)*batch_size]                "
   ]
  },
  {
   "cell_type": "code",
   "execution_count": 15,
   "metadata": {
    "collapsed": true
   },
   "outputs": [],
   "source": [
    "## make a generator of loaded data\n",
    "batch_size = 256\n",
    "mobilenet_valid_gen = bnf_data_generator(mobilenet_valid_data, mobilenet_valid_labels, batch_size=batch_size)\n",
    "mobilenet_test_gen = bnf_data_generator(mobilenet_test_data, mobilenet_test_labels, batch_size=batch_size)\n",
    "mobilenet_train_gen = bnf_data_generator(mobilenet_train_data, mobilenet_train_labels, batch_size=batch_size)"
   ]
  },
  {
   "cell_type": "code",
   "execution_count": 16,
   "metadata": {},
   "outputs": [
    {
     "name": "stdout",
     "output_type": "stream",
     "text": [
      "Took 4.822598457336426 seconds to calculate bnf_valid_data\n",
      "Took 3.8090832233428955 seconds to calculate bnf_test_data\n",
      "Took 28.038143157958984 seconds to calculate bottleneck_features_mobilenet_train\n"
     ]
    }
   ],
   "source": [
    "## Transform data and save it in bottleneck feacture format\n",
    "\n",
    "from keras.applications.mobilenet import MobileNet\n",
    "import time\n",
    "\n",
    "mobilenet_feature_ext = MobileNet(include_top=False, weights='imagenet', input_shape=(224, 224, 3))\n",
    "mobilenet_feature_ext._make_predict_function()\n",
    "\n",
    "s= time.time()\n",
    "!rm -rf 'bottleneck_features_mobilenet_valid*bclz'\n",
    "bnf_valid_data,  bnf_valid_labels = bcolz_prediction_writer(gen=mobilenet_valid_gen, \n",
    "                        steps=(1+(valid_data_df.shape[0]//batch_size)),\n",
    "                        model=mobilenet_feature_ext,\n",
    "                        dirname=bnf_valid_name)\n",
    "print(\"Took {} seconds to calculate bnf_valid_data\".format(time.time()-s))\n",
    "\n",
    "s= time.time()\n",
    "!rm -rf 'bottleneck_features_mobilenet_test*bclz'\n",
    "bnf_test_data,  bnf_test_labels = bcolz_prediction_writer(gen=mobilenet_test_gen, \n",
    "                        steps=(1+(test_data_df.shape[0]//batch_size)),\n",
    "                        model=mobilenet_feature_ext,\n",
    "                        dirname=bnf_test_name)\n",
    "print(\"Took {} seconds to calculate bnf_test_data\".format(time.time()-s))\n",
    "\n",
    "s= time.time()\n",
    "!rm -rf 'bottleneck_features_mobilenet_train*bclz'\n",
    "bnf_train_data,  bnf_train_labels = bcolz_prediction_writer(gen=mobilenet_train_gen, \n",
    "                        steps=(1+(train_data_df.shape[0]//batch_size)),\n",
    "                        model=mobilenet_feature_ext,\n",
    "                        dirname=bnf_train_name)\n",
    "print(\"Took {} seconds to calculate bottleneck_features_mobilenet_train\".format(time.time()-s))\n"
   ]
  },
  {
   "cell_type": "code",
   "execution_count": 45,
   "metadata": {},
   "outputs": [
    {
     "name": "stdout",
     "output_type": "stream",
     "text": [
      "(835, 7, 7, 1024)\n",
      "(836, 7, 7, 1024)\n",
      "(6680, 7, 7, 1024)\n",
      "(835, 133)\n",
      "(836, 133)\n",
      "(6680, 133)\n"
     ]
    }
   ],
   "source": [
    "print(bnf_valid_data.shape)\n",
    "print(bnf_test_data.shape)\n",
    "print(bnf_train_data.shape)\n",
    "\n",
    "print(bnf_valid_labels.shape)\n",
    "print(bnf_test_labels.shape)\n",
    "print(bnf_train_labels.shape)"
   ]
  },
  {
   "cell_type": "code",
   "execution_count": 46,
   "metadata": {},
   "outputs": [
    {
     "name": "stdout",
     "output_type": "stream",
     "text": [
      "(835, 7, 7, 1024)\n",
      "(836, 7, 7, 1024)\n",
      "(6680, 7, 7, 1024)\n",
      "(835, 133)\n",
      "(836, 133)\n",
      "(6680, 133)\n"
     ]
    }
   ],
   "source": [
    "## Read it back from disk and check size\n",
    "bnf_valid_data = bcolz.carray(rootdir='bottleneck_features_mobilenet_valid_data.bclz', mode='r')\n",
    "bnf_test_data = bcolz.carray(rootdir='bottleneck_features_mobilenet_test_data.bclz', mode='r')\n",
    "bnf_train_data = bcolz.carray(rootdir='bottleneck_features_mobilenet_train_data.bclz', mode='r')\n",
    "\n",
    "bnf_valid_labels = bcolz.carray(rootdir='bottleneck_features_mobilenet_valid_labels.bclz', mode='r')\n",
    "bnf_test_labels = bcolz.carray(rootdir='bottleneck_features_mobilenet_test_labels.bclz', mode='r')\n",
    "bnf_train_labels = bcolz.carray(rootdir='bottleneck_features_mobilenet_train_labels.bclz', mode='r')\n",
    "\n",
    "print(bnf_valid_data.shape)\n",
    "print(bnf_test_data.shape)\n",
    "print(bnf_train_data.shape)\n",
    "\n",
    "\n",
    "print(bnf_valid_labels.shape)\n",
    "print(bnf_test_labels.shape)\n",
    "print(bnf_train_labels.shape)"
   ]
  },
  {
   "cell_type": "code",
   "execution_count": 21,
   "metadata": {
    "collapsed": true
   },
   "outputs": [],
   "source": [
    "## make a generator of loaded data\n",
    "batch_size = 256\n",
    "train_gen_fex =bnf_data_generator(bnf_train_data, bnf_train_labels, batch_size=batch_size)\n",
    "valid_gen_fex =bnf_data_generator(bnf_valid_data, bnf_valid_labels, batch_size=batch_size)\n",
    "test_gen_fex = bnf_data_generator(bnf_test_data, bnf_test_labels, batch_size=batch_size) "
   ]
  },
  {
   "cell_type": "raw",
   "metadata": {},
   "source": [
    "from keras.models import Sequential\n",
    "from keras.layers import Conv2D, MaxPooling2D, GlobalAveragePooling2D\n",
    "from keras.layers import Activation, Dropout, Flatten, Dense\n",
    "from keras import regularizers\n",
    "\n",
    "top_model = Sequential()\n",
    "#model.add(Flatten(input_shape=train_data.shape[1:]))\n",
    "top_model.add(GlobalAveragePooling2D(input_shape=(7, 7, 1024)))\n",
    "top_model.add(Dropout(0.2))\n",
    "top_model.add(Dense(512, activation='relu'))\n",
    "top_model.add(Dropout(0.2))\n",
    "top_model.add(Dense(133, activation='softmax'))\n",
    "\n",
    "top_model.compile(optimizer='adam',\n",
    "              loss='categorical_crossentropy', metrics=['accuracy'])\n",
    "\n",
    "top_model.summary()"
   ]
  },
  {
   "cell_type": "code",
   "execution_count": 47,
   "metadata": {},
   "outputs": [
    {
     "name": "stdout",
     "output_type": "stream",
     "text": [
      "_________________________________________________________________\n",
      "Layer (type)                 Output Shape              Param #   \n",
      "=================================================================\n",
      "global_average_pooling2d_2 ( (None, 1024)              0         \n",
      "_________________________________________________________________\n",
      "reshape_1 (Reshape)          (None, 1, 1, 1024)        0         \n",
      "_________________________________________________________________\n",
      "dropout (Dropout)            (None, 1, 1, 1024)        0         \n",
      "_________________________________________________________________\n",
      "conv_preds (Conv2D)          (None, 1, 1, 133)         136325    \n",
      "_________________________________________________________________\n",
      "act_softmax (Activation)     (None, 1, 1, 133)         0         \n",
      "_________________________________________________________________\n",
      "reshape_2 (Reshape)          (None, 133)               0         \n",
      "=================================================================\n",
      "Total params: 136,325\n",
      "Trainable params: 136,325\n",
      "Non-trainable params: 0\n",
      "_________________________________________________________________\n"
     ]
    }
   ],
   "source": [
    "import keras.backend as K\n",
    "from keras.models import Sequential\n",
    "from keras.layers import Conv2D, MaxPooling2D, GlobalAveragePooling2D\n",
    "from keras.layers import Activation, Dropout, Flatten, Dense, Reshape\n",
    "from keras import regularizers\n",
    "\n",
    "alpha = 1\n",
    "num_classes = 133\n",
    "dropout=1e-3\n",
    "\n",
    "if K.image_data_format() == 'channels_first':\n",
    "    shape = (int(1024 * alpha), 1, 1)\n",
    "else:\n",
    "    shape = (1, 1, int(1024 * alpha))\n",
    "\n",
    "classes = num_classes\n",
    "\n",
    "top_model = Sequential()\n",
    "top_model.add(GlobalAveragePooling2D(input_shape=(7, 7, 1024)))\n",
    "top_model.add(Reshape(shape, name='reshape_1'))\n",
    "top_model.add(Dropout(dropout, name='dropout'))\n",
    "top_model.add(Conv2D(classes, (1, 1),\n",
    "           padding='same', name='conv_preds'))\n",
    "top_model.add(Activation('softmax', name='act_softmax'))\n",
    "top_model.add(Reshape((classes,), name='reshape_2'))\n",
    "\n",
    "top_model.compile(optimizer='adam',\n",
    "              loss='categorical_crossentropy', metrics=['accuracy'])\n",
    "top_model.summary()"
   ]
  },
  {
   "cell_type": "code",
   "execution_count": 23,
   "metadata": {},
   "outputs": [
    {
     "name": "stdout",
     "output_type": "stream",
     "text": [
      "Epoch 1/25\n",
      "26/27 [===========================>..] - ETA: 0s - loss: 8.2234 - acc: 0.0011Epoch 00001: val_loss improved from inf to 5.36288, saving model to saved_models/weights.best.topmodel.mobilenet.hdf5\n",
      "27/27 [==============================] - 3s 106ms/step - loss: 8.2892 - acc: 0.0010 - val_loss: 5.3629 - val_acc: 0.0347\n",
      "Epoch 2/25\n",
      "26/27 [===========================>..] - ETA: 0s - loss: 4.7928 - acc: 0.0291Epoch 00002: val_loss improved from 5.36288 to 3.91638, saving model to saved_models/weights.best.topmodel.mobilenet.hdf5\n",
      "27/27 [==============================] - 2s 85ms/step - loss: 4.7870 - acc: 0.0281 - val_loss: 3.9164 - val_acc: 0.1317\n",
      "Epoch 3/25\n",
      "26/27 [===========================>..] - ETA: 0s - loss: 4.1131 - acc: 0.0730Epoch 00003: val_loss improved from 3.91638 to 3.10813, saving model to saved_models/weights.best.topmodel.mobilenet.hdf5\n",
      "27/27 [==============================] - 2s 87ms/step - loss: 4.0677 - acc: 0.0809 - val_loss: 3.1081 - val_acc: 0.2802\n",
      "Epoch 4/25\n",
      "26/27 [===========================>..] - ETA: 0s - loss: 3.2589 - acc: 0.1971Epoch 00004: val_loss improved from 3.10813 to 2.57055, saving model to saved_models/weights.best.topmodel.mobilenet.hdf5\n",
      "27/27 [==============================] - 2s 85ms/step - loss: 3.2001 - acc: 0.2199 - val_loss: 2.5705 - val_acc: 0.3988\n",
      "Epoch 5/25\n",
      "26/27 [===========================>..] - ETA: 0s - loss: 2.7355 - acc: 0.3038Epoch 00005: val_loss improved from 2.57055 to 2.17414, saving model to saved_models/weights.best.topmodel.mobilenet.hdf5\n",
      "27/27 [==============================] - 2s 91ms/step - loss: 2.6737 - acc: 0.3287 - val_loss: 2.1741 - val_acc: 0.4802\n",
      "Epoch 6/25\n",
      "26/27 [===========================>..] - ETA: 0s - loss: 2.2919 - acc: 0.4205Epoch 00006: val_loss improved from 2.17414 to 1.88438, saving model to saved_models/weights.best.topmodel.mobilenet.hdf5\n",
      "27/27 [==============================] - 2s 88ms/step - loss: 2.2352 - acc: 0.4413 - val_loss: 1.8844 - val_acc: 0.5557\n",
      "Epoch 7/25\n",
      "26/27 [===========================>..] - ETA: 0s - loss: 1.9564 - acc: 0.5131Epoch 00007: val_loss improved from 1.88438 to 1.66740, saving model to saved_models/weights.best.topmodel.mobilenet.hdf5\n",
      "27/27 [==============================] - 2s 88ms/step - loss: 1.9055 - acc: 0.5305 - val_loss: 1.6674 - val_acc: 0.6060\n",
      "Epoch 8/25\n",
      "26/27 [===========================>..] - ETA: 0s - loss: 1.6902 - acc: 0.5912Epoch 00008: val_loss improved from 1.66740 to 1.50157, saving model to saved_models/weights.best.topmodel.mobilenet.hdf5\n",
      "27/27 [==============================] - 2s 85ms/step - loss: 1.6454 - acc: 0.6058 - val_loss: 1.5016 - val_acc: 0.6359\n",
      "Epoch 9/25\n",
      "26/27 [===========================>..] - ETA: 0s - loss: 1.4789 - acc: 0.6504Epoch 00009: val_loss improved from 1.50157 to 1.37237, saving model to saved_models/weights.best.topmodel.mobilenet.hdf5\n",
      "27/27 [==============================] - 2s 91ms/step - loss: 1.4393 - acc: 0.6629 - val_loss: 1.3724 - val_acc: 0.6707\n",
      "Epoch 10/25\n",
      "26/27 [===========================>..] - ETA: 0s - loss: 1.3086 - acc: 0.6979Epoch 00010: val_loss improved from 1.37237 to 1.26934, saving model to saved_models/weights.best.topmodel.mobilenet.hdf5\n",
      "27/27 [==============================] - 2s 89ms/step - loss: 1.2732 - acc: 0.7087 - val_loss: 1.2693 - val_acc: 0.6946\n",
      "Epoch 11/25\n",
      "25/27 [==========================>...] - ETA: 0s - loss: 1.1700 - acc: 0.7319Epoch 00011: val_loss improved from 1.26934 to 1.18601, saving model to saved_models/weights.best.topmodel.mobilenet.hdf5\n",
      "27/27 [==============================] - 2s 88ms/step - loss: 1.1379 - acc: 0.7427 - val_loss: 1.1860 - val_acc: 0.7114\n",
      "Epoch 12/25\n",
      "26/27 [===========================>..] - ETA: 0s - loss: 1.0534 - acc: 0.7664Epoch 00012: val_loss improved from 1.18601 to 1.11689, saving model to saved_models/weights.best.topmodel.mobilenet.hdf5\n",
      "27/27 [==============================] - 2s 83ms/step - loss: 1.0247 - acc: 0.7747 - val_loss: 1.1169 - val_acc: 0.7293\n",
      "Epoch 13/25\n",
      "26/27 [===========================>..] - ETA: 0s - loss: 0.9573 - acc: 0.7913Epoch 00013: val_loss improved from 1.11689 to 1.05947, saving model to saved_models/weights.best.topmodel.mobilenet.hdf5\n",
      "27/27 [==============================] - 2s 91ms/step - loss: 0.9312 - acc: 0.7988 - val_loss: 1.0595 - val_acc: 0.7425\n",
      "Epoch 14/25\n",
      "26/27 [===========================>..] - ETA: 0s - loss: 0.8743 - acc: 0.8139Epoch 00014: val_loss improved from 1.05947 to 1.01045, saving model to saved_models/weights.best.topmodel.mobilenet.hdf5\n",
      "27/27 [==============================] - 2s 90ms/step - loss: 0.8504 - acc: 0.8205 - val_loss: 1.0105 - val_acc: 0.7509\n",
      "Epoch 15/25\n",
      "26/27 [===========================>..] - ETA: 0s - loss: 0.8028 - acc: 0.8335Epoch 00015: val_loss improved from 1.01045 to 0.96866, saving model to saved_models/weights.best.topmodel.mobilenet.hdf5\n",
      "27/27 [==============================] - 2s 87ms/step - loss: 0.7810 - acc: 0.8395 - val_loss: 0.9687 - val_acc: 0.7629\n",
      "Epoch 16/25\n",
      "26/27 [===========================>..] - ETA: 0s - loss: 0.7405 - acc: 0.8481Epoch 00016: val_loss improved from 0.96866 to 0.93226, saving model to saved_models/weights.best.topmodel.mobilenet.hdf5\n",
      "27/27 [==============================] - 2s 83ms/step - loss: 0.7202 - acc: 0.8536 - val_loss: 0.9323 - val_acc: 0.7737\n",
      "Epoch 17/25\n",
      "26/27 [===========================>..] - ETA: 0s - loss: 0.6862 - acc: 0.8624Epoch 00017: val_loss improved from 0.93226 to 0.90066, saving model to saved_models/weights.best.topmodel.mobilenet.hdf5\n",
      "27/27 [==============================] - 2s 89ms/step - loss: 0.6674 - acc: 0.8673 - val_loss: 0.9007 - val_acc: 0.7808\n",
      "Epoch 18/25\n",
      "26/27 [===========================>..] - ETA: 0s - loss: 0.6384 - acc: 0.8750Epoch 00018: val_loss improved from 0.90066 to 0.87276, saving model to saved_models/weights.best.topmodel.mobilenet.hdf5\n",
      "27/27 [==============================] - 2s 87ms/step - loss: 0.6208 - acc: 0.8795 - val_loss: 0.8728 - val_acc: 0.7832\n",
      "Epoch 19/25\n",
      "26/27 [===========================>..] - ETA: 0s - loss: 0.5950 - acc: 0.8855Epoch 00019: val_loss improved from 0.87276 to 0.84806, saving model to saved_models/weights.best.topmodel.mobilenet.hdf5\n",
      "27/27 [==============================] - 2s 87ms/step - loss: 0.5786 - acc: 0.8896 - val_loss: 0.8481 - val_acc: 0.7880\n",
      "Epoch 20/25\n",
      "26/27 [===========================>..] - ETA: 0s - loss: 0.5566 - acc: 0.8963Epoch 00020: val_loss improved from 0.84806 to 0.82593, saving model to saved_models/weights.best.topmodel.mobilenet.hdf5\n",
      "27/27 [==============================] - 2s 84ms/step - loss: 0.5413 - acc: 0.9000 - val_loss: 0.8259 - val_acc: 0.7904\n",
      "Epoch 21/25\n",
      "26/27 [===========================>..] - ETA: 0s - loss: 0.5220 - acc: 0.9069Epoch 00021: val_loss improved from 0.82593 to 0.80635, saving model to saved_models/weights.best.topmodel.mobilenet.hdf5\n",
      "27/27 [==============================] - 2s 90ms/step - loss: 0.5076 - acc: 0.9102 - val_loss: 0.8063 - val_acc: 0.7976\n",
      "Epoch 22/25\n",
      "26/27 [===========================>..] - ETA: 0s - loss: 0.4899 - acc: 0.9166Epoch 00022: val_loss improved from 0.80635 to 0.78839, saving model to saved_models/weights.best.topmodel.mobilenet.hdf5\n",
      "27/27 [==============================] - 2s 89ms/step - loss: 0.4764 - acc: 0.9196 - val_loss: 0.7884 - val_acc: 0.8012\n",
      "Epoch 23/25\n",
      "26/27 [===========================>..] - ETA: 0s - loss: 0.4615 - acc: 0.9235Epoch 00023: val_loss improved from 0.78839 to 0.77242, saving model to saved_models/weights.best.topmodel.mobilenet.hdf5\n",
      "27/27 [==============================] - 2s 88ms/step - loss: 0.4487 - acc: 0.9263 - val_loss: 0.7724 - val_acc: 0.8036\n",
      "Epoch 24/25\n",
      "26/27 [===========================>..] - ETA: 0s - loss: 0.4352 - acc: 0.9312Epoch 00024: val_loss improved from 0.77242 to 0.75774, saving model to saved_models/weights.best.topmodel.mobilenet.hdf5\n",
      "27/27 [==============================] - 2s 84ms/step - loss: 0.4233 - acc: 0.9337 - val_loss: 0.7577 - val_acc: 0.8072\n",
      "Epoch 25/25\n",
      "26/27 [===========================>..] - ETA: 0s - loss: 0.4109 - acc: 0.9377Epoch 00025: val_loss improved from 0.75774 to 0.74448, saving model to saved_models/weights.best.topmodel.mobilenet.hdf5\n",
      "27/27 [==============================] - 2s 90ms/step - loss: 0.3995 - acc: 0.9399 - val_loss: 0.7445 - val_acc: 0.8108\n"
     ]
    },
    {
     "data": {
      "text/plain": [
       "<keras.callbacks.History at 0x7f9dc44b3128>"
      ]
     },
     "execution_count": 23,
     "metadata": {},
     "output_type": "execute_result"
    }
   ],
   "source": [
    "from keras.callbacks import EarlyStopping, ModelCheckpoint\n",
    "checkpointer = ModelCheckpoint(filepath='saved_models/weights.best.topmodel.mobilenet.hdf5', verbose=1, save_best_only=True)\n",
    "early_stopping = EarlyStopping(monitor='val_loss', patience=2, verbose=1)\n",
    "top_model.fit_generator(train_gen_fex,\n",
    "          steps_per_epoch= (1 + (train_data_df.shape[0]// batch_size)),\n",
    "          epochs=25,\n",
    "          validation_data=valid_gen_fex,\n",
    "          validation_steps= (1 + (valid_data_df.shape[0] // batch_size)),\n",
    "          callbacks=[early_stopping, checkpointer])"
   ]
  },
  {
   "cell_type": "code",
   "execution_count": 24,
   "metadata": {
    "collapsed": true
   },
   "outputs": [],
   "source": [
    "def prediction_from_gen(gen, steps, model, dirname ):\n",
    "    y_true = None; y_pred = None\n",
    "    yt_dir = dirname + \"_y_true.bclz\"\n",
    "    yp_dir = dirname + \"_y_pred.bclz\"\n",
    "    for i in range(steps):\n",
    "        X_batch, y_batch = next(gen)\n",
    "        y_out = model.predict(X_batch)\n",
    "        if i== 0:\n",
    "            y_true = bcolz.carray(y_batch, rootdir=yt_dir, mode='w')\n",
    "            y_pred = bcolz.carray(y_out, rootdir=yp_dir, mode='w') \n",
    "        else:\n",
    "            y_true.append(y_batch)\n",
    "            y_pred.append(y_out)\n",
    "    y_true.flush()\n",
    "    y_pred.flush()\n",
    "    return y_true, y_pred\n",
    "\n",
    "y_true, y_pred = prediction_from_gen(gen=test_gen_fex,\n",
    "                                     steps=(1 + (test_data_df.shape[0] // batch_size)),\n",
    "                                     model=top_model,\n",
    "                                     dirname=\"bottleneck_features_mobilenet_test\"\n",
    "                                    )\n"
   ]
  },
  {
   "cell_type": "code",
   "execution_count": 25,
   "metadata": {},
   "outputs": [
    {
     "name": "stdout",
     "output_type": "stream",
     "text": [
      "(836, 133)\n",
      "(836, 133)\n"
     ]
    }
   ],
   "source": [
    "print(y_true.shape)\n",
    "print(y_pred.shape)"
   ]
  },
  {
   "cell_type": "code",
   "execution_count": 26,
   "metadata": {},
   "outputs": [
    {
     "name": "stdout",
     "output_type": "stream",
     "text": [
      "Test accuracy: 77.9904%\n"
     ]
    }
   ],
   "source": [
    "# report test accuracy\n",
    "test_accuracy = 100*np.sum(np.argmax(y_pred, axis=1)==np.argmax(y_true, axis=1))/len(y_true)\n",
    "print('Test accuracy: %.4f%%' % test_accuracy)"
   ]
  },
  {
   "cell_type": "code",
   "execution_count": 27,
   "metadata": {
    "collapsed": true
   },
   "outputs": [],
   "source": [
    "# report test accuracy on TTD\n",
    "ttd_X1 = ttd_data_df.X.as_matrix()\n",
    "ttd_X2 = mobilenet.preprocess_input(paths_to_tensor(ttd_X1))\n",
    "ttd_X = mobilenet_feature_ext.predict(ttd_X2)"
   ]
  },
  {
   "cell_type": "code",
   "execution_count": 28,
   "metadata": {
    "collapsed": true
   },
   "outputs": [],
   "source": [
    "ttd_y_pred = top_model.predict(ttd_X)\n",
    "ttd_y_pred_two_classes=ttd_y_pred[:,[0,2]]\n",
    "ttd_y_true = ttd_data_df.y.as_matrix()"
   ]
  },
  {
   "cell_type": "code",
   "execution_count": 29,
   "metadata": {},
   "outputs": [
    {
     "name": "stdout",
     "output_type": "stream",
     "text": [
      "(882, 7, 7, 1024)\n",
      "(882, 133)\n",
      "(882,)\n"
     ]
    }
   ],
   "source": [
    "print(ttd_X.shape)\n",
    "print(ttd_y_pred.shape)\n",
    "print(ttd_y_true.shape) "
   ]
  },
  {
   "cell_type": "code",
   "execution_count": 30,
   "metadata": {},
   "outputs": [
    {
     "name": "stdout",
     "output_type": "stream",
     "text": [
      "TTD Test accuracy: 59.2971%\n"
     ]
    }
   ],
   "source": [
    "ttd_test_accuracy = 100*np.sum(np.argmax(ttd_y_pred_two_classes, axis=1)==ttd_y_true)/len(ttd_y_true)\n",
    "print('TTD Test accuracy: %.4f%%' % ttd_test_accuracy)"
   ]
  },
  {
   "cell_type": "code",
   "execution_count": 31,
   "metadata": {},
   "outputs": [
    {
     "name": "stdout",
     "output_type": "stream",
     "text": [
      "_________________________________________________________________\n",
      "Layer (type)                 Output Shape              Param #   \n",
      "=================================================================\n",
      "input_2 (InputLayer)         (None, 224, 224, 3)       0         \n",
      "_________________________________________________________________\n",
      "conv1 (Conv2D)               (None, 112, 112, 32)      864       \n",
      "_________________________________________________________________\n",
      "conv1_bn (BatchNormalization (None, 112, 112, 32)      128       \n",
      "_________________________________________________________________\n",
      "conv1_relu (Activation)      (None, 112, 112, 32)      0         \n",
      "_________________________________________________________________\n",
      "conv_dw_1 (DepthwiseConv2D)  (None, 112, 112, 32)      288       \n",
      "_________________________________________________________________\n",
      "conv_dw_1_bn (BatchNormaliza (None, 112, 112, 32)      128       \n",
      "_________________________________________________________________\n",
      "conv_dw_1_relu (Activation)  (None, 112, 112, 32)      0         \n",
      "_________________________________________________________________\n",
      "conv_pw_1 (Conv2D)           (None, 112, 112, 64)      2048      \n",
      "_________________________________________________________________\n",
      "conv_pw_1_bn (BatchNormaliza (None, 112, 112, 64)      256       \n",
      "_________________________________________________________________\n",
      "conv_pw_1_relu (Activation)  (None, 112, 112, 64)      0         \n",
      "_________________________________________________________________\n",
      "conv_dw_2 (DepthwiseConv2D)  (None, 56, 56, 64)        576       \n",
      "_________________________________________________________________\n",
      "conv_dw_2_bn (BatchNormaliza (None, 56, 56, 64)        256       \n",
      "_________________________________________________________________\n",
      "conv_dw_2_relu (Activation)  (None, 56, 56, 64)        0         \n",
      "_________________________________________________________________\n",
      "conv_pw_2 (Conv2D)           (None, 56, 56, 128)       8192      \n",
      "_________________________________________________________________\n",
      "conv_pw_2_bn (BatchNormaliza (None, 56, 56, 128)       512       \n",
      "_________________________________________________________________\n",
      "conv_pw_2_relu (Activation)  (None, 56, 56, 128)       0         \n",
      "_________________________________________________________________\n",
      "conv_dw_3 (DepthwiseConv2D)  (None, 56, 56, 128)       1152      \n",
      "_________________________________________________________________\n",
      "conv_dw_3_bn (BatchNormaliza (None, 56, 56, 128)       512       \n",
      "_________________________________________________________________\n",
      "conv_dw_3_relu (Activation)  (None, 56, 56, 128)       0         \n",
      "_________________________________________________________________\n",
      "conv_pw_3 (Conv2D)           (None, 56, 56, 128)       16384     \n",
      "_________________________________________________________________\n",
      "conv_pw_3_bn (BatchNormaliza (None, 56, 56, 128)       512       \n",
      "_________________________________________________________________\n",
      "conv_pw_3_relu (Activation)  (None, 56, 56, 128)       0         \n",
      "_________________________________________________________________\n",
      "conv_dw_4 (DepthwiseConv2D)  (None, 28, 28, 128)       1152      \n",
      "_________________________________________________________________\n",
      "conv_dw_4_bn (BatchNormaliza (None, 28, 28, 128)       512       \n",
      "_________________________________________________________________\n",
      "conv_dw_4_relu (Activation)  (None, 28, 28, 128)       0         \n",
      "_________________________________________________________________\n",
      "conv_pw_4 (Conv2D)           (None, 28, 28, 256)       32768     \n",
      "_________________________________________________________________\n",
      "conv_pw_4_bn (BatchNormaliza (None, 28, 28, 256)       1024      \n",
      "_________________________________________________________________\n",
      "conv_pw_4_relu (Activation)  (None, 28, 28, 256)       0         \n",
      "_________________________________________________________________\n",
      "conv_dw_5 (DepthwiseConv2D)  (None, 28, 28, 256)       2304      \n",
      "_________________________________________________________________\n",
      "conv_dw_5_bn (BatchNormaliza (None, 28, 28, 256)       1024      \n",
      "_________________________________________________________________\n",
      "conv_dw_5_relu (Activation)  (None, 28, 28, 256)       0         \n",
      "_________________________________________________________________\n",
      "conv_pw_5 (Conv2D)           (None, 28, 28, 256)       65536     \n",
      "_________________________________________________________________\n",
      "conv_pw_5_bn (BatchNormaliza (None, 28, 28, 256)       1024      \n",
      "_________________________________________________________________\n",
      "conv_pw_5_relu (Activation)  (None, 28, 28, 256)       0         \n",
      "_________________________________________________________________\n",
      "conv_dw_6 (DepthwiseConv2D)  (None, 14, 14, 256)       2304      \n",
      "_________________________________________________________________\n",
      "conv_dw_6_bn (BatchNormaliza (None, 14, 14, 256)       1024      \n",
      "_________________________________________________________________\n",
      "conv_dw_6_relu (Activation)  (None, 14, 14, 256)       0         \n",
      "_________________________________________________________________\n",
      "conv_pw_6 (Conv2D)           (None, 14, 14, 512)       131072    \n",
      "_________________________________________________________________\n",
      "conv_pw_6_bn (BatchNormaliza (None, 14, 14, 512)       2048      \n",
      "_________________________________________________________________\n",
      "conv_pw_6_relu (Activation)  (None, 14, 14, 512)       0         \n",
      "_________________________________________________________________\n",
      "conv_dw_7 (DepthwiseConv2D)  (None, 14, 14, 512)       4608      \n",
      "_________________________________________________________________\n",
      "conv_dw_7_bn (BatchNormaliza (None, 14, 14, 512)       2048      \n",
      "_________________________________________________________________\n",
      "conv_dw_7_relu (Activation)  (None, 14, 14, 512)       0         \n",
      "_________________________________________________________________\n",
      "conv_pw_7 (Conv2D)           (None, 14, 14, 512)       262144    \n",
      "_________________________________________________________________\n",
      "conv_pw_7_bn (BatchNormaliza (None, 14, 14, 512)       2048      \n",
      "_________________________________________________________________\n",
      "conv_pw_7_relu (Activation)  (None, 14, 14, 512)       0         \n",
      "_________________________________________________________________\n",
      "conv_dw_8 (DepthwiseConv2D)  (None, 14, 14, 512)       4608      \n",
      "_________________________________________________________________\n",
      "conv_dw_8_bn (BatchNormaliza (None, 14, 14, 512)       2048      \n",
      "_________________________________________________________________\n",
      "conv_dw_8_relu (Activation)  (None, 14, 14, 512)       0         \n",
      "_________________________________________________________________\n",
      "conv_pw_8 (Conv2D)           (None, 14, 14, 512)       262144    \n",
      "_________________________________________________________________\n",
      "conv_pw_8_bn (BatchNormaliza (None, 14, 14, 512)       2048      \n",
      "_________________________________________________________________\n",
      "conv_pw_8_relu (Activation)  (None, 14, 14, 512)       0         \n",
      "_________________________________________________________________\n",
      "conv_dw_9 (DepthwiseConv2D)  (None, 14, 14, 512)       4608      \n",
      "_________________________________________________________________\n",
      "conv_dw_9_bn (BatchNormaliza (None, 14, 14, 512)       2048      \n",
      "_________________________________________________________________\n",
      "conv_dw_9_relu (Activation)  (None, 14, 14, 512)       0         \n",
      "_________________________________________________________________\n",
      "conv_pw_9 (Conv2D)           (None, 14, 14, 512)       262144    \n",
      "_________________________________________________________________\n",
      "conv_pw_9_bn (BatchNormaliza (None, 14, 14, 512)       2048      \n",
      "_________________________________________________________________\n",
      "conv_pw_9_relu (Activation)  (None, 14, 14, 512)       0         \n",
      "_________________________________________________________________\n",
      "conv_dw_10 (DepthwiseConv2D) (None, 14, 14, 512)       4608      \n",
      "_________________________________________________________________\n",
      "conv_dw_10_bn (BatchNormaliz (None, 14, 14, 512)       2048      \n",
      "_________________________________________________________________\n",
      "conv_dw_10_relu (Activation) (None, 14, 14, 512)       0         \n",
      "_________________________________________________________________\n",
      "conv_pw_10 (Conv2D)          (None, 14, 14, 512)       262144    \n",
      "_________________________________________________________________\n",
      "conv_pw_10_bn (BatchNormaliz (None, 14, 14, 512)       2048      \n",
      "_________________________________________________________________\n",
      "conv_pw_10_relu (Activation) (None, 14, 14, 512)       0         \n",
      "_________________________________________________________________\n",
      "conv_dw_11 (DepthwiseConv2D) (None, 14, 14, 512)       4608      \n",
      "_________________________________________________________________\n",
      "conv_dw_11_bn (BatchNormaliz (None, 14, 14, 512)       2048      \n",
      "_________________________________________________________________\n",
      "conv_dw_11_relu (Activation) (None, 14, 14, 512)       0         \n",
      "_________________________________________________________________\n",
      "conv_pw_11 (Conv2D)          (None, 14, 14, 512)       262144    \n",
      "_________________________________________________________________\n",
      "conv_pw_11_bn (BatchNormaliz (None, 14, 14, 512)       2048      \n",
      "_________________________________________________________________\n",
      "conv_pw_11_relu (Activation) (None, 14, 14, 512)       0         \n",
      "_________________________________________________________________\n",
      "conv_dw_12 (DepthwiseConv2D) (None, 7, 7, 512)         4608      \n",
      "_________________________________________________________________\n",
      "conv_dw_12_bn (BatchNormaliz (None, 7, 7, 512)         2048      \n",
      "_________________________________________________________________\n",
      "conv_dw_12_relu (Activation) (None, 7, 7, 512)         0         \n",
      "_________________________________________________________________\n",
      "conv_pw_12 (Conv2D)          (None, 7, 7, 1024)        524288    \n",
      "_________________________________________________________________\n",
      "conv_pw_12_bn (BatchNormaliz (None, 7, 7, 1024)        4096      \n",
      "_________________________________________________________________\n",
      "conv_pw_12_relu (Activation) (None, 7, 7, 1024)        0         \n",
      "_________________________________________________________________\n",
      "conv_dw_13 (DepthwiseConv2D) (None, 7, 7, 1024)        9216      \n",
      "_________________________________________________________________\n",
      "conv_dw_13_bn (BatchNormaliz (None, 7, 7, 1024)        4096      \n",
      "_________________________________________________________________\n",
      "conv_dw_13_relu (Activation) (None, 7, 7, 1024)        0         \n",
      "_________________________________________________________________\n",
      "conv_pw_13 (Conv2D)          (None, 7, 7, 1024)        1048576   \n",
      "_________________________________________________________________\n",
      "conv_pw_13_bn (BatchNormaliz (None, 7, 7, 1024)        4096      \n",
      "_________________________________________________________________\n",
      "conv_pw_13_relu (Activation) (None, 7, 7, 1024)        0         \n",
      "_________________________________________________________________\n",
      "sequential_1 (Sequential)    (None, 133)               136325    \n",
      "=================================================================\n",
      "Total params: 3,365,189\n",
      "Trainable params: 0\n",
      "Non-trainable params: 3,365,189\n",
      "_________________________________________________________________\n"
     ]
    }
   ],
   "source": [
    "# fine tune on full model\n",
    "from keras import optimizers\n",
    "from keras.callbacks import EarlyStopping, ModelCheckpoint\n",
    "\n",
    "mobilenet_model = MobileNet(include_top=False, weights='imagenet', input_shape=(224, 224, 3))\n",
    "\n",
    "# CREATE AN \"REAL\" MODEL FROM Mobilenet\n",
    "# BY COPYING ALL THE LAYERS OF Mobilenet\n",
    "model = Sequential()\n",
    "for l in mobilenet_model.layers:\n",
    "    model.add(l)\n",
    "\n",
    "\n",
    "# CONCATENATE THE TWO MODELS\n",
    "model.add(top_model)\n",
    "\n",
    "# LOCK THE TOP CONV LAYERS\n",
    "for layer in model.layers:\n",
    "    layer.trainable = False\n",
    "\n",
    "# COMPILE THE MODEL\n",
    "model.compile(loss='categorical_crossentropy',\n",
    "              optimizer=optimizers.SGD(lr=1e-4, momentum=0.9),\n",
    "              metrics=['accuracy'])\n",
    "\n",
    "model.summary()"
   ]
  },
  {
   "cell_type": "code",
   "execution_count": 32,
   "metadata": {},
   "outputs": [
    {
     "name": "stdout",
     "output_type": "stream",
     "text": [
      "Epoch 1/2\n",
      "26/27 [===========================>..] - ETA: 0s - loss: 1.3355 - acc: 0.6429Epoch 00001: val_loss improved from inf to 0.75804, saving model to saved_models/weights.best.fullmodel.mobilenet.hdf5\n",
      "27/27 [==============================] - 23s 836ms/step - loss: 1.5138 - acc: 0.6198 - val_loss: 0.7580 - val_acc: 0.7880\n",
      "Epoch 2/2\n",
      "26/27 [===========================>..] - ETA: 0s - loss: 1.3356 - acc: 0.6433Epoch 00002: val_loss did not improve\n",
      "27/27 [==============================] - 18s 672ms/step - loss: 1.5131 - acc: 0.6203 - val_loss: 0.7875 - val_acc: 0.7749\n"
     ]
    },
    {
     "data": {
      "text/plain": [
       "<keras.callbacks.History at 0x7f9db4ecf860>"
      ]
     },
     "execution_count": 32,
     "metadata": {},
     "output_type": "execute_result"
    }
   ],
   "source": [
    "# load train, test, and validation datasets\n",
    "batch_size=256\n",
    "\n",
    "from keras.callbacks import EarlyStopping, ModelCheckpoint\n",
    "checkpointer = ModelCheckpoint(filepath='saved_models/weights.best.fullmodel.mobilenet.hdf5', verbose=1, save_best_only=True)\n",
    "early_stopping = EarlyStopping(monitor='val_loss', patience=2, verbose=1)\n",
    "model.fit_generator(mobilenet_train_gen,\n",
    "          steps_per_epoch= (1+ train_data_df.shape[0]// batch_size),\n",
    "          epochs=2,\n",
    "          validation_data=mobilenet_valid_gen,\n",
    "          validation_steps= (1+ valid_data_df.shape[0] // batch_size),\n",
    "          callbacks=[early_stopping, checkpointer])"
   ]
  },
  {
   "cell_type": "code",
   "execution_count": 33,
   "metadata": {},
   "outputs": [],
   "source": [
    "\n",
    "y_true, y_pred = prediction_from_gen(gen=mobilenet_test_gen,\n",
    "                                     steps=(1 + (test_data_df.shape[0] // batch_size)),\n",
    "                                     model=model,\n",
    "                                     dirname=\"mobilenet_test\"\n",
    "                                    )"
   ]
  },
  {
   "cell_type": "code",
   "execution_count": 34,
   "metadata": {},
   "outputs": [
    {
     "name": "stdout",
     "output_type": "stream",
     "text": [
      "Test accuracy: 76.9139%\n"
     ]
    }
   ],
   "source": [
    "# report test accuracy\n",
    "test_accuracy = 100*np.sum(np.argmax(y_pred, axis=1)==np.argmax(y_true, axis=1))/len(y_true)\n",
    "print('Test accuracy: %.4f%%' % test_accuracy)"
   ]
  },
  {
   "cell_type": "code",
   "execution_count": 35,
   "metadata": {
    "collapsed": true
   },
   "outputs": [],
   "source": [
    "# report test accuracy on TTD\n",
    "ttd_X1 = ttd_data_df.X.as_matrix()\n",
    "ttd_X2 = mobilenet.preprocess_input(paths_to_tensor(ttd_X1))\n",
    "ttd_y_pred = model.predict(ttd_X2)\n",
    "\n",
    "ttd_y_pred_two_classes=ttd_y_pred[:,[0,2]]\n",
    "ttd_y_true = ttd_data_df.y.as_matrix()"
   ]
  },
  {
   "cell_type": "code",
   "execution_count": 36,
   "metadata": {},
   "outputs": [
    {
     "name": "stdout",
     "output_type": "stream",
     "text": [
      "TTD Test accuracy: 57.0295%\n"
     ]
    }
   ],
   "source": [
    "ttd_test_accuracy = 100*np.sum(np.argmax(ttd_y_pred_two_classes, axis=1)==ttd_y_true)/len(ttd_y_true)\n",
    "print('TTD Test accuracy: %.4f%%' % ttd_test_accuracy)"
   ]
  },
  {
   "cell_type": "code",
   "execution_count": null,
   "metadata": {
    "collapsed": true
   },
   "outputs": [],
   "source": []
  }
 ],
 "metadata": {
  "kernelspec": {
   "display_name": "dog-project",
   "language": "python",
   "name": "dog-project"
  },
  "language_info": {
   "codemirror_mode": {
    "name": "ipython",
    "version": 3
   },
   "file_extension": ".py",
   "mimetype": "text/x-python",
   "name": "python",
   "nbconvert_exporter": "python",
   "pygments_lexer": "ipython3",
   "version": "3.6.1"
  }
 },
 "nbformat": 4,
 "nbformat_minor": 2
}
