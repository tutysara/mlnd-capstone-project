{
 "cells": [
  {
   "cell_type": "code",
   "execution_count": 11,
   "metadata": {},
   "outputs": [],
   "source": [
    "import sys\n",
    "sys.path.append('..')\n",
    "\n",
    "import numpy as np\n",
    "from matplotlib import pyplot as plt\n",
    "import seaborn as sns\n",
    "import shutil\n",
    "import importlib\n",
    "\n",
    "%matplotlib inline\n",
    "from sklearn.datasets import load_files\n",
    "import pandas as pd\n",
    "pd.set_option(\"display.max_colwidth\", 75)"
   ]
  },
  {
   "cell_type": "code",
   "execution_count": 12,
   "metadata": {},
   "outputs": [
    {
     "name": "stdout",
     "output_type": "stream",
     "text": [
      "1036656072\n"
     ]
    }
   ],
   "source": [
    "# vgg19 fc layer train time\n",
    "!ls -l ../vgg19/saved_models/fc_layers_caffe_vgg19_weights.hdf5|cut -f5 -d\" \""
   ]
  },
  {
   "cell_type": "code",
   "execution_count": 13,
   "metadata": {},
   "outputs": [],
   "source": [
    "vgg19_fc = 1036656072"
   ]
  },
  {
   "cell_type": "code",
   "execution_count": 14,
   "metadata": {},
   "outputs": [
    {
     "name": "stdout",
     "output_type": "stream",
     "text": [
      "1116766456\n"
     ]
    }
   ],
   "source": [
    "# vgg19 all layer train time\n",
    "!ls -l ../vgg19/saved_models/all_layers_caffe_vgg19_weights.hdf5|cut -f5 -d\" \""
   ]
  },
  {
   "cell_type": "code",
   "execution_count": 15,
   "metadata": {},
   "outputs": [],
   "source": [
    "vgg19_all = 1116766456"
   ]
  },
  {
   "cell_type": "code",
   "execution_count": 16,
   "metadata": {},
   "outputs": [
    {
     "name": "stdout",
     "output_type": "stream",
     "text": [
      "15544744\n"
     ]
    }
   ],
   "source": [
    "# mobilenet fc layer train time\n",
    "!ls -l ../mobilenet/saved_models/fc_layers_mobilenet_weights.hdf5|cut -f5 -d\" \""
   ]
  },
  {
   "cell_type": "code",
   "execution_count": 17,
   "metadata": {},
   "outputs": [],
   "source": [
    "mobilenet_fc = 15544744"
   ]
  },
  {
   "cell_type": "code",
   "execution_count": 18,
   "metadata": {},
   "outputs": [
    {
     "name": "stdout",
     "output_type": "stream",
     "text": [
      "28407960\n"
     ]
    }
   ],
   "source": [
    "# mobilenet all layer train time\n",
    "!ls -l ../mobilenet/saved_models/all_layers_mobilenet_weights.hdf5|cut -f5 -d\" \""
   ]
  },
  {
   "cell_type": "code",
   "execution_count": 19,
   "metadata": {},
   "outputs": [],
   "source": [
    "mobilenet_all = 28407960"
   ]
  },
  {
   "cell_type": "code",
   "execution_count": 20,
   "metadata": {},
   "outputs": [
    {
     "name": "stdout",
     "output_type": "stream",
     "text": [
      "219423224\n"
     ]
    }
   ],
   "source": [
    "# inception fc layer train time\n",
    "!ls -l ../inceptionresnetv2/saved_models/fc_layers_inceptionresnetv2_weights.hdf5|cut -f5 -d\" \""
   ]
  },
  {
   "cell_type": "code",
   "execution_count": 21,
   "metadata": {},
   "outputs": [],
   "source": [
    "inceptionresnetv2_fc = 219423224"
   ]
  },
  {
   "cell_type": "code",
   "execution_count": 22,
   "metadata": {},
   "outputs": [
    {
     "name": "stdout",
     "output_type": "stream",
     "text": [
      "436709216\n"
     ]
    }
   ],
   "source": [
    "# inception fc layer train time\n",
    "!ls -l ../inceptionresnetv2/saved_models/all_layers_inceptionresnetv2_weights.hdf5|cut -f5 -d\" \""
   ]
  },
  {
   "cell_type": "code",
   "execution_count": 23,
   "metadata": {},
   "outputs": [],
   "source": [
    "inceptionresnetv2_all = 436709216"
   ]
  },
  {
   "cell_type": "code",
   "execution_count": 24,
   "metadata": {},
   "outputs": [],
   "source": [
    "values = [vgg19_fc, vgg19_all, mobilenet_fc, mobilenet_all, inceptionresnetv2_fc,inceptionresnetv2_all]"
   ]
  },
  {
   "cell_type": "code",
   "execution_count": 25,
   "metadata": {},
   "outputs": [],
   "source": [
    "min_value= min(values)"
   ]
  },
  {
   "cell_type": "code",
   "execution_count": 26,
   "metadata": {},
   "outputs": [
    {
     "name": "stdout",
     "output_type": "stream",
     "text": [
      "[66.689, 71.842, 1.0, 1.827, 14.116, 28.094]\n"
     ]
    }
   ],
   "source": [
    "print([round(v/min_value, 3) for v in values])"
   ]
  },
  {
   "cell_type": "code",
   "execution_count": 27,
   "metadata": {},
   "outputs": [
    {
     "data": {
      "text/plain": [
       "[1036656072, 1116766456, 15544744, 28407960, 219423224, 436709216]"
      ]
     },
     "execution_count": 27,
     "metadata": {},
     "output_type": "execute_result"
    }
   ],
   "source": [
    "values"
   ]
  },
  {
   "cell_type": "code",
   "execution_count": 30,
   "metadata": {},
   "outputs": [
    {
     "data": {
      "image/png": "[encoded data removed]",
      "text/plain": [
       "<matplotlib.figure.Figure at 0x7fae197bc9e8>"
      ]
     },
     "metadata": {},
     "output_type": "display_data"
    },
    {
     "data": {
      "text/plain": [
       "<matplotlib.figure.Figure at 0x7fae19602ef0>"
      ]
     },
     "metadata": {},
     "output_type": "display_data"
    }
   ],
   "source": [
    "x_vals = ('VGG19-FT-F', 'VGG19-FT-A', 'MobilenetV2-FT-F', 'MobilenetV2-FT-A', 'InceptionResnetV2-FT-F', 'InceptionResnetV2-FT-A')\n",
    "y_pos = np.arange(len(x_vals))\n",
    "\n",
    "y_vals = values\n",
    "colors = ['g', 'g', 'y', 'y', 'b', 'b']\n",
    "plt.bar(y_pos, y_vals, align='center', alpha=0.5, color=colors)\n",
    "plt.xticks(y_pos, x_vals, rotation=45)\n",
    "plt.ylabel('Size on disk in bytes')\n",
    "plt.title('Memory footprint comparision')\n",
    "plt.grid(True)\n",
    "plt.show()\n",
    "plt.savefig('../imgs/trained_model_memory_footprint_comparision.png')"
   ]
  },
  {
   "cell_type": "code",
   "execution_count": null,
   "metadata": {},
   "outputs": [],
   "source": []
  }
 ],
 "metadata": {
  "kernelspec": {
   "display_name": "dog-project",
   "language": "python",
   "name": "dog-project"
  },
  "language_info": {
   "codemirror_mode": {
    "name": "ipython",
    "version": 3
   },
   "file_extension": ".py",
   "mimetype": "text/x-python",
   "name": "python",
   "nbconvert_exporter": "python",
   "pygments_lexer": "ipython3",
   "version": "3.6.1"
  }
 },
 "nbformat": 4,
 "nbformat_minor": 2
}
