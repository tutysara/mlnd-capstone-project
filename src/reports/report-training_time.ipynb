{
 "cells": [
  {
   "cell_type": "code",
   "execution_count": 2,
   "metadata": {},
   "outputs": [
    {
     "name": "stdout",
     "output_type": "stream",
     "text": [
      "2-01:26:45\n"
     ]
    }
   ],
   "source": [
    "# vgg19 fc layer train time\n",
    "!tail -1 ../vgg19/logs/fc_layer_train_caffe_vgg19.ps.log|cut -f4 -d,"
   ]
  },
  {
   "cell_type": "code",
   "execution_count": 3,
   "metadata": {},
   "outputs": [],
   "source": [
    "vgg19_fc = (2*24 + 1)*3600 + 26* 60 + 45"
   ]
  },
  {
   "cell_type": "code",
   "execution_count": 4,
   "metadata": {},
   "outputs": [
    {
     "name": "stdout",
     "output_type": "stream",
     "text": [
      "23:46:30\n"
     ]
    }
   ],
   "source": [
    "# vgg19 all layer train time\n",
    "!tail -1 ../vgg19/logs/all_layer_train_caffe_vgg19.ps.log|cut -f4 -d,"
   ]
  },
  {
   "cell_type": "code",
   "execution_count": 5,
   "metadata": {},
   "outputs": [],
   "source": [
    "vgg19_all = (23)*3600 + 26* 60 + 45"
   ]
  },
  {
   "cell_type": "code",
   "execution_count": 6,
   "metadata": {},
   "outputs": [
    {
     "name": "stdout",
     "output_type": "stream",
     "text": [
      "2-09:27:19\n"
     ]
    }
   ],
   "source": [
    "# mobilenet fc layer train time\n",
    "!tail -1 ../mobilenet/logs/fc_layer_train_mobilenet.py.ps.log|cut -f4 -d,"
   ]
  },
  {
   "cell_type": "code",
   "execution_count": 7,
   "metadata": {},
   "outputs": [],
   "source": [
    "mobilenet_fc = (2*24 + 9)*3600 + 27* 60 + 19"
   ]
  },
  {
   "cell_type": "code",
   "execution_count": 8,
   "metadata": {},
   "outputs": [
    {
     "name": "stdout",
     "output_type": "stream",
     "text": [
      "1-18:41:15\n"
     ]
    }
   ],
   "source": [
    "# mobilenet all layer train time\n",
    "!tail -1 ../mobilenet/logs/all_layer_train_mobilenet.py.ps.log|cut -f4 -d,"
   ]
  },
  {
   "cell_type": "code",
   "execution_count": 9,
   "metadata": {},
   "outputs": [],
   "source": [
    "mobilenet_all = (1*24 + 18)*3600 + 41* 60 + 15"
   ]
  },
  {
   "cell_type": "code",
   "execution_count": 10,
   "metadata": {},
   "outputs": [
    {
     "name": "stdout",
     "output_type": "stream",
     "text": [
      "1-18:46:17\n"
     ]
    }
   ],
   "source": [
    "# inception fc layer train time\n",
    "!tail -1 ../inceptionresnetv2/logs/fc_layer_train_inceptionresnetv2.py.ps.log|cut -f4 -d,"
   ]
  },
  {
   "cell_type": "code",
   "execution_count": 11,
   "metadata": {},
   "outputs": [],
   "source": [
    "inceptionresnetv2_fc = (1*24 + 18)*3600 + 46* 60 + 17"
   ]
  },
  {
   "cell_type": "code",
   "execution_count": 12,
   "metadata": {},
   "outputs": [
    {
     "name": "stdout",
     "output_type": "stream",
     "text": [
      "21:20:46\n"
     ]
    }
   ],
   "source": [
    "# inception fc layer train time\n",
    "!tail -1 ../inceptionresnetv2/logs/all_layer_train_inceptionresnetv2.py.ps.log|cut -f4 -d,"
   ]
  },
  {
   "cell_type": "code",
   "execution_count": 13,
   "metadata": {},
   "outputs": [],
   "source": [
    "inceptionresnetv2_all = (21)*3600 + 20* 60 + 46"
   ]
  },
  {
   "cell_type": "code",
   "execution_count": 14,
   "metadata": {},
   "outputs": [],
   "source": [
    "values = [vgg19_fc, vgg19_all, mobilenet_fc, mobilenet_all, inceptionresnetv2_fc,inceptionresnetv2_all]"
   ]
  },
  {
   "cell_type": "code",
   "execution_count": 15,
   "metadata": {},
   "outputs": [],
   "source": [
    "min_value= min(values)"
   ]
  },
  {
   "cell_type": "code",
   "execution_count": 16,
   "metadata": {},
   "outputs": [
    {
     "name": "stdout",
     "output_type": "stream",
     "text": [
      "[2.316, 1.098, 2.692, 2.0, 2.004, 1.0]\n"
     ]
    }
   ],
   "source": [
    "print([round(v/min_value, 3) for v in values])"
   ]
  },
  {
   "cell_type": "code",
   "execution_count": 17,
   "metadata": {},
   "outputs": [
    {
     "data": {
      "text/plain": [
       "[178005, 84405, 206839, 153675, 153977, 76846]"
      ]
     },
     "execution_count": 17,
     "metadata": {},
     "output_type": "execute_result"
    }
   ],
   "source": [
    "values"
   ]
  },
  {
   "cell_type": "code",
   "execution_count": null,
   "metadata": {},
   "outputs": [],
   "source": []
  }
 ],
 "metadata": {
  "kernelspec": {
   "display_name": "dog-project",
   "language": "python",
   "name": "dog-project"
  },
  "language_info": {
   "codemirror_mode": {
    "name": "ipython",
    "version": 3
   },
   "file_extension": ".py",
   "mimetype": "text/x-python",
   "name": "python",
   "nbconvert_exporter": "python",
   "pygments_lexer": "ipython3",
   "version": "3.6.1"
  }
 },
 "nbformat": 4,
 "nbformat_minor": 2
}
