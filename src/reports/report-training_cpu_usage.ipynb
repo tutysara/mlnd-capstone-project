{
 "cells": [
  {
   "cell_type": "code",
   "execution_count": 1,
   "metadata": {},
   "outputs": [],
   "source": [
    "import sys\n",
    "sys.path.append('..')\n",
    "\n",
    "import numpy as np\n",
    "from matplotlib import pyplot as plt\n",
    "import seaborn as sns\n",
    "import shutil\n",
    "import importlib\n",
    "\n",
    "%matplotlib inline\n",
    "from sklearn.datasets import load_files\n",
    "import pandas as pd\n",
    "pd.set_option(\"display.max_colwidth\", 75)"
   ]
  },
  {
   "cell_type": "code",
   "execution_count": 2,
   "metadata": {},
   "outputs": [
    {
     "name": "stdout",
     "output_type": "stream",
     "text": [
      "35.95042432241981\n"
     ]
    }
   ],
   "source": [
    "# vgg19 fc layer train time\n",
    "!cat ../vgg19/logs/fc_layer_train_caffe_vgg19.ps.log|cut -f5 -d,|tail -n +2\\\n",
    "|python -c 'import sys; vals=sys.stdin.readlines(); print(sum(map(float, vals))/len(vals))'"
   ]
  },
  {
   "cell_type": "code",
   "execution_count": 3,
   "metadata": {},
   "outputs": [],
   "source": [
    "vgg19_fc = 35.95042432241981"
   ]
  },
  {
   "cell_type": "code",
   "execution_count": 4,
   "metadata": {},
   "outputs": [
    {
     "name": "stdout",
     "output_type": "stream",
     "text": [
      "61.28210279311421\n"
     ]
    }
   ],
   "source": [
    "# vgg19 all layer train time\n",
    "!cat ../vgg19/logs/all_layer_train_caffe_vgg19.ps.log|cut -f5 -d,|tail -n +2\\\n",
    "|python -c 'import sys; vals=sys.stdin.readlines();print(sum(map(float, vals))/len(vals))'"
   ]
  },
  {
   "cell_type": "code",
   "execution_count": 5,
   "metadata": {},
   "outputs": [],
   "source": [
    "vgg19_all = 61.28210279311421"
   ]
  },
  {
   "cell_type": "code",
   "execution_count": 6,
   "metadata": {},
   "outputs": [
    {
     "name": "stdout",
     "output_type": "stream",
     "text": [
      "40.399700041799484\n"
     ]
    }
   ],
   "source": [
    "# mobilenet fc layer train time\n",
    "!cat ../mobilenet/logs/fc_layer_train_mobilenet.py.ps.log|cut -f5 -d,|tail -n +2\\\n",
    "|python -c 'import sys; vals=sys.stdin.readlines();print(sum(map(float, vals))/len(vals))'"
   ]
  },
  {
   "cell_type": "code",
   "execution_count": 7,
   "metadata": {},
   "outputs": [],
   "source": [
    "mobilenet_fc = 40.399700041799484"
   ]
  },
  {
   "cell_type": "code",
   "execution_count": 8,
   "metadata": {},
   "outputs": [
    {
     "name": "stdout",
     "output_type": "stream",
     "text": [
      "46.06237746658866\n"
     ]
    }
   ],
   "source": [
    "# mobilenet all layer train time\n",
    "!cat ../mobilenet/logs/all_layer_train_mobilenet.py.ps.log|cut -f5 -d,|tail -n +2\\\n",
    "|python -c 'import sys; vals=sys.stdin.readlines();print(sum(map(float, vals))/len(vals))'"
   ]
  },
  {
   "cell_type": "code",
   "execution_count": 9,
   "metadata": {},
   "outputs": [],
   "source": [
    "mobilenet_all = 46.06237746658866"
   ]
  },
  {
   "cell_type": "code",
   "execution_count": 10,
   "metadata": {},
   "outputs": [
    {
     "name": "stdout",
     "output_type": "stream",
     "text": [
      "42.941866698828406\n"
     ]
    }
   ],
   "source": [
    "# inception fc layer train time\n",
    "!cat ../inceptionresnetv2/logs/fc_layer_train_inceptionresnetv2.py.ps.log|cut -f5 -d,|tail -n +2\\\n",
    "|python -c 'import sys; vals=sys.stdin.readlines();print(sum(map(float, vals))/len(vals))'"
   ]
  },
  {
   "cell_type": "code",
   "execution_count": 11,
   "metadata": {},
   "outputs": [],
   "source": [
    "inceptionresnetv2_fc = 42.941866698828406"
   ]
  },
  {
   "cell_type": "code",
   "execution_count": 12,
   "metadata": {},
   "outputs": [
    {
     "name": "stdout",
     "output_type": "stream",
     "text": [
      "99.74477534447158\n"
     ]
    }
   ],
   "source": [
    "# inception fc layer train time\n",
    "!cat ../inceptionresnetv2/logs/all_layer_train_inceptionresnetv2.py.ps.log|cut -f5 -d,|tail -n +2\\\n",
    "|python -c 'import sys; vals=sys.stdin.readlines();print(sum(map(float, vals))/len(vals))'"
   ]
  },
  {
   "cell_type": "code",
   "execution_count": 13,
   "metadata": {},
   "outputs": [],
   "source": [
    "inceptionresnetv2_all = 99.74477534447158"
   ]
  },
  {
   "cell_type": "code",
   "execution_count": 14,
   "metadata": {},
   "outputs": [],
   "source": [
    "values = [vgg19_fc, vgg19_all, mobilenet_fc, mobilenet_all, inceptionresnetv2_fc,inceptionresnetv2_all]"
   ]
  },
  {
   "cell_type": "code",
   "execution_count": 15,
   "metadata": {},
   "outputs": [],
   "source": [
    "min_value= min(values)"
   ]
  },
  {
   "cell_type": "code",
   "execution_count": 16,
   "metadata": {},
   "outputs": [
    {
     "name": "stdout",
     "output_type": "stream",
     "text": [
      "[1.0, 1.705, 1.124, 1.281, 1.194, 2.775]\n"
     ]
    }
   ],
   "source": [
    "print([round(v/min_value, 3) for v in values])"
   ]
  },
  {
   "cell_type": "code",
   "execution_count": 17,
   "metadata": {},
   "outputs": [
    {
     "data": {
      "text/plain": [
       "[35.95042432241981,\n",
       " 61.28210279311421,\n",
       " 40.399700041799484,\n",
       " 46.06237746658866,\n",
       " 42.941866698828406,\n",
       " 99.74477534447158]"
      ]
     },
     "execution_count": 17,
     "metadata": {},
     "output_type": "execute_result"
    }
   ],
   "source": [
    "values"
   ]
  },
  {
   "cell_type": "code",
   "execution_count": 18,
   "metadata": {},
   "outputs": [
    {
     "data": {
      "image/png": "[encoded data removed]",
      "text/plain": [
       "<matplotlib.figure.Figure at 0x7fa81bbcf320>"
      ]
     },
     "metadata": {},
     "output_type": "display_data"
    },
    {
     "data": {
      "text/plain": [
       "<matplotlib.figure.Figure at 0x7fa813066cf8>"
      ]
     },
     "metadata": {},
     "output_type": "display_data"
    }
   ],
   "source": [
    "x_vals = ('VGG19-FT-F', 'VGG19-FT-A', 'MobilenetV2-FT-F', 'MobilenetV2-FT-A', 'InceptionResnetV2-FT-F', 'InceptionResnetV2-FT-A')\n",
    "y_pos = np.arange(len(x_vals))\n",
    "\n",
    "y_vals = values\n",
    "colors = ['g', 'g', 'y', 'y', 'b', 'b']\n",
    "plt.bar(y_pos, y_vals, align='center', alpha=0.5, color=colors)\n",
    "plt.xticks(y_pos, x_vals, rotation=45)\n",
    "plt.ylabel('Relative Training Time')\n",
    "plt.title('Training time comparision')\n",
    "plt.grid(True)\n",
    "plt.show()\n",
    "plt.savefig('../imgs/training_cpu_usage_comparision.png')"
   ]
  },
  {
   "cell_type": "code",
   "execution_count": null,
   "metadata": {},
   "outputs": [],
   "source": []
  }
 ],
 "metadata": {
  "kernelspec": {
   "display_name": "dog-project",
   "language": "python",
   "name": "dog-project"
  },
  "language_info": {
   "codemirror_mode": {
    "name": "ipython",
    "version": 3
   },
   "file_extension": ".py",
   "mimetype": "text/x-python",
   "name": "python",
   "nbconvert_exporter": "python",
   "pygments_lexer": "ipython3",
   "version": "3.6.1"
  }
 },
 "nbformat": 4,
 "nbformat_minor": 2
}
