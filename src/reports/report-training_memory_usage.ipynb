{
 "cells": [
  {
   "cell_type": "code",
   "execution_count": 24,
   "metadata": {},
   "outputs": [],
   "source": [
    "import sys\n",
    "sys.path.append('..')\n",
    "\n",
    "import numpy as np\n",
    "from matplotlib import pyplot as plt\n",
    "import seaborn as sns\n",
    "import shutil\n",
    "import importlib\n",
    "\n",
    "%matplotlib inline\n",
    "from sklearn.datasets import load_files\n",
    "import pandas as pd\n",
    "pd.set_option(\"display.max_colwidth\", 75)"
   ]
  },
  {
   "cell_type": "code",
   "execution_count": 25,
   "metadata": {},
   "outputs": [
    {
     "name": "stdout",
     "output_type": "stream",
     "text": [
      "25948760.41230477\n"
     ]
    }
   ],
   "source": [
    "# vgg19 fc layer train time\n",
    "!cat ../vgg19/logs/fc_layer_train_caffe_vgg19.ps.log|cut -f8 -d,|tail -n +2\\\n",
    "|python -c 'import sys; vals=sys.stdin.readlines(); print(sum(map(float, vals))/len(vals))'"
   ]
  },
  {
   "cell_type": "code",
   "execution_count": 26,
   "metadata": {},
   "outputs": [],
   "source": [
    "vgg19_fc = 25948760.41230477"
   ]
  },
  {
   "cell_type": "code",
   "execution_count": 27,
   "metadata": {},
   "outputs": [
    {
     "name": "stdout",
     "output_type": "stream",
     "text": [
      "26150894.894441318\n"
     ]
    }
   ],
   "source": [
    "# vgg19 all layer train time\n",
    "!cat ../vgg19/logs/all_layer_train_caffe_vgg19.ps.log|cut -f8 -d,|tail -n +2\\\n",
    "|python -c 'import sys; vals=sys.stdin.readlines();print(sum(map(float, vals))/len(vals))'"
   ]
  },
  {
   "cell_type": "code",
   "execution_count": 28,
   "metadata": {},
   "outputs": [],
   "source": [
    "vgg19_all = 26150894.894441318"
   ]
  },
  {
   "cell_type": "code",
   "execution_count": 29,
   "metadata": {},
   "outputs": [
    {
     "name": "stdout",
     "output_type": "stream",
     "text": [
      "19170925.678791013\n"
     ]
    }
   ],
   "source": [
    "# mobilenet fc layer train time\n",
    "!cat ../mobilenet/logs/fc_layer_train_mobilenet.py.ps.log|cut -f8 -d,|tail -n +2\\\n",
    "|python -c 'import sys; vals=sys.stdin.readlines();print(sum(map(float, vals))/len(vals))'"
   ]
  },
  {
   "cell_type": "code",
   "execution_count": 30,
   "metadata": {},
   "outputs": [],
   "source": [
    "mobilenet_fc = 19170925.678791013"
   ]
  },
  {
   "cell_type": "code",
   "execution_count": 31,
   "metadata": {},
   "outputs": [
    {
     "name": "stdout",
     "output_type": "stream",
     "text": [
      "24949300.608980563\n"
     ]
    }
   ],
   "source": [
    "# mobilenet all layer train time\n",
    "!cat ../mobilenet/logs/all_layer_train_mobilenet.py.ps.log|cut -f8 -d,|tail -n +2\\\n",
    "|python -c 'import sys; vals=sys.stdin.readlines();print(sum(map(float, vals))/len(vals))'"
   ]
  },
  {
   "cell_type": "code",
   "execution_count": 32,
   "metadata": {},
   "outputs": [],
   "source": [
    "mobilenet_all = 24949300.608980563"
   ]
  },
  {
   "cell_type": "code",
   "execution_count": 33,
   "metadata": {},
   "outputs": [
    {
     "name": "stdout",
     "output_type": "stream",
     "text": [
      "19940900.443793826\n"
     ]
    }
   ],
   "source": [
    "# inception fc layer train time\n",
    "!cat ../inceptionresnetv2/logs/fc_layer_train_inceptionresnetv2.py.ps.log|cut -f8 -d,|tail -n +2\\\n",
    "|python -c 'import sys; vals=sys.stdin.readlines();print(sum(map(float, vals))/len(vals))'"
   ]
  },
  {
   "cell_type": "code",
   "execution_count": 34,
   "metadata": {},
   "outputs": [],
   "source": [
    "inceptionresnetv2_fc = 19940900.443793826"
   ]
  },
  {
   "cell_type": "code",
   "execution_count": 35,
   "metadata": {},
   "outputs": [
    {
     "name": "stdout",
     "output_type": "stream",
     "text": [
      "26251220.16188511\n"
     ]
    }
   ],
   "source": [
    "# inception fc layer train time\n",
    "!cat ../inceptionresnetv2/logs/all_layer_train_inceptionresnetv2.py.ps.log|cut -f8 -d,|tail -n +2\\\n",
    "|python -c 'import sys; vals=sys.stdin.readlines();print(sum(map(float, vals))/len(vals))'"
   ]
  },
  {
   "cell_type": "code",
   "execution_count": 36,
   "metadata": {},
   "outputs": [],
   "source": [
    "inceptionresnetv2_all = 26251220.16188511\n"
   ]
  },
  {
   "cell_type": "code",
   "execution_count": 37,
   "metadata": {},
   "outputs": [],
   "source": [
    "values = [vgg19_fc, vgg19_all, mobilenet_fc, mobilenet_all, inceptionresnetv2_fc,inceptionresnetv2_all]"
   ]
  },
  {
   "cell_type": "code",
   "execution_count": 38,
   "metadata": {},
   "outputs": [],
   "source": [
    "min_value= min(values)"
   ]
  },
  {
   "cell_type": "code",
   "execution_count": 39,
   "metadata": {},
   "outputs": [
    {
     "name": "stdout",
     "output_type": "stream",
     "text": [
      "[1.354, 1.364, 1.0, 1.301, 1.04, 1.369]\n"
     ]
    }
   ],
   "source": [
    "print([round(v/min_value, 3) for v in values])"
   ]
  },
  {
   "cell_type": "code",
   "execution_count": 40,
   "metadata": {},
   "outputs": [
    {
     "data": {
      "text/plain": [
       "[25948760.41230477,\n",
       " 26150894.894441318,\n",
       " 19170925.678791013,\n",
       " 24949300.608980563,\n",
       " 19940900.443793826,\n",
       " 26251220.16188511]"
      ]
     },
     "execution_count": 40,
     "metadata": {},
     "output_type": "execute_result"
    }
   ],
   "source": [
    "values"
   ]
  },
  {
   "cell_type": "code",
   "execution_count": 41,
   "metadata": {},
   "outputs": [
    {
     "data": {
      "image/png": "[encoded data removed]",
      "text/plain": [
       "<matplotlib.figure.Figure at 0x7f30a3003da0>"
      ]
     },
     "metadata": {},
     "output_type": "display_data"
    },
    {
     "data": {
      "text/plain": [
       "<matplotlib.figure.Figure at 0x7f30a3114da0>"
      ]
     },
     "metadata": {},
     "output_type": "display_data"
    }
   ],
   "source": [
    "x_vals = ('VGG19-FT-F', 'VGG19-FT-A', 'MobilenetV2-FT-F', 'MobilenetV2-FT-A', 'InceptionResnetV2-FT-F', 'InceptionResnetV2-FT-A')\n",
    "y_pos = np.arange(len(x_vals))\n",
    "\n",
    "y_vals = values\n",
    "colors = ['g', 'g', 'y', 'y', 'b', 'b']\n",
    "plt.bar(y_pos, y_vals, align='center', alpha=0.5, color=colors)\n",
    "plt.xticks(y_pos, x_vals, rotation=45)\n",
    "plt.ylabel('Relative Training Time')\n",
    "plt.title('Training time comparision')\n",
    "plt.grid(True)\n",
    "plt.show()\n",
    "plt.savefig('../imgs/training_vsize_usage_comparision.png')"
   ]
  },
  {
   "cell_type": "code",
   "execution_count": null,
   "metadata": {},
   "outputs": [],
   "source": []
  }
 ],
 "metadata": {
  "kernelspec": {
   "display_name": "dog-project",
   "language": "python",
   "name": "dog-project"
  },
  "language_info": {
   "codemirror_mode": {
    "name": "ipython",
    "version": 3
   },
   "file_extension": ".py",
   "mimetype": "text/x-python",
   "name": "python",
   "nbconvert_exporter": "python",
   "pygments_lexer": "ipython3",
   "version": "3.6.1"
  }
 },
 "nbformat": 4,
 "nbformat_minor": 2
}
