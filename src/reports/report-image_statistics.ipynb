{
 "cells": [
  {
   "cell_type": "code",
   "execution_count": 23,
   "metadata": {},
   "outputs": [],
   "source": [
    "import sys\n",
    "sys.path.append('..')\n",
    "\n",
    "import numpy as np\n",
    "from matplotlib import pyplot as plt\n",
    "import seaborn as sns\n",
    "import shutil\n",
    "import importlib\n",
    "\n",
    "%matplotlib inline\n",
    "from sklearn.datasets import load_files\n",
    "import pandas as pd\n",
    "pd.set_option(\"display.max_colwidth\", 75)"
   ]
  },
  {
   "cell_type": "markdown",
   "metadata": {},
   "source": [
    "The file sizes are calculated by running ```identify``` command on the data directory and processing the output\n",
    "Theo output is processed to get only the image size and size on disk using the command\n",
    "\n",
    "```cat file_size_identify.txt |cut -d\" \" -f3,7 > filesize.txt```"
   ]
  },
  {
   "cell_type": "markdown",
   "metadata": {},
   "source": [
    "There are few grayscale and sRBG images which have a different format"
   ]
  },
  {
   "cell_type": "code",
   "execution_count": 24,
   "metadata": {},
   "outputs": [
    {
     "name": "stdout",
     "output_type": "stream",
     "text": [
      "833 withcolor.txt\n"
     ]
    }
   ],
   "source": [
    "# images with color attribute\n",
    "!cat  file_size_identify.txt |cut -d\" \" -f3,7-|grep c > withcolor.txt\n",
    "!wc -l withcolor.txt"
   ]
  },
  {
   "cell_type": "code",
   "execution_count": 25,
   "metadata": {},
   "outputs": [
    {
     "name": "stdout",
     "output_type": "stream",
     "text": [
      "469753 withoutcolor.txt\n"
     ]
    }
   ],
   "source": [
    "# images without color attribute\n",
    "!cat  file_size_identify.txt |cut -d\" \" -f3,7-|grep -v c > withoutcolor.txt\n",
    "!wc -l withoutcolor.txt"
   ]
  },
  {
   "cell_type": "code",
   "execution_count": 26,
   "metadata": {},
   "outputs": [
    {
     "name": "stdout",
     "output_type": "stream",
     "text": [
      "400x548 Gray 256c 26.4KB 0.010u 0:00.000\n",
      "1024x1024 Gray 256c 110KB 0.010u 0:00.010\n",
      "150x68 Gray 256c 7.36KB 0.000u 0:00.000\n",
      "566x800 Gray 256c 30.9KB 0.000u 0:00.000\n",
      "1024x1024 Gray 256c 82.2KB 0.010u 0:00.009\n",
      "800x1016 Gray 256c 91.8KB 0.010u 0:00.000\n",
      "1484x1621 Gray 256c 84.8KB 0.010u 0:00.010\n",
      "427x624 Gray 256c 68.7KB 0.000u 0:00.000\n",
      "1024x1024 Gray 256c 70.2KB 0.010u 0:00.009\n",
      "1024x605 Gray 256c 108KB 0.010u 0:00.009\n",
      "757\n"
     ]
    }
   ],
   "source": [
    "# Grayscale\n",
    "!cat withcolor.txt |grep \"Gray\"|tail\n",
    "!cat withcolor.txt |grep \"Gray\"|wc -l"
   ]
  },
  {
   "cell_type": "code",
   "execution_count": 27,
   "metadata": {},
   "outputs": [
    {
     "name": "stdout",
     "output_type": "stream",
     "text": [
      "1024x768 65c 19.2KB 0.000u 0:00.000\n",
      "607x825 248c 188KB 0.000u 0:00.000\n",
      "875x875 256c 24.3KB 0.000u 0:00.000\n",
      "300x225 256c 12.1KB 0.000u 0:00.000\n",
      "1024x1481 256c 125KB 0.000u 0:00.000\n",
      "70x80 256c 4.97KB 0.000u 0:00.000\n",
      "875x483 170c 20.6KB 0.000u 0:00.000\n",
      "640x263 256c 12.7KB 0.000u 0:00.000\n",
      "1154x832 256c 32.9KB 0.000u 0:00.000\n",
      "1200x675 256c 54KB 0.000u 0:00.000\n",
      "76\n"
     ]
    }
   ],
   "source": [
    "# Non Grayscale\n",
    "!cat withcolor.txt |grep -v \"Gray\"|tail\n",
    "!cat withcolor.txt |grep -v \"Gray\"|wc -l"
   ]
  },
  {
   "cell_type": "code",
   "execution_count": 28,
   "metadata": {},
   "outputs": [],
   "source": [
    "# process all regular files\n",
    "!cat withoutcolor.txt|cut -d\" \" -f1,2 > filesize.txt\n"
   ]
  },
  {
   "cell_type": "code",
   "execution_count": 29,
   "metadata": {},
   "outputs": [
    {
     "name": "stdout",
     "output_type": "stream",
     "text": [
      "469753\n"
     ]
    }
   ],
   "source": [
    "!cat filesize.txt|wc -l"
   ]
  },
  {
   "cell_type": "code",
   "execution_count": 30,
   "metadata": {},
   "outputs": [
    {
     "name": "stdout",
     "output_type": "stream",
     "text": [
      "757 withc_greyscale_filesize.txt\n"
     ]
    }
   ],
   "source": [
    "# process grayscale\n",
    "!cat withcolor.txt |grep \"Gray\"|cut -d\" \" -f1,4 > withc_greyscale_filesize.txt\n",
    "!wc -l withc_greyscale_filesize.txt"
   ]
  },
  {
   "cell_type": "code",
   "execution_count": 31,
   "metadata": {},
   "outputs": [
    {
     "name": "stdout",
     "output_type": "stream",
     "text": [
      "76 withc_nongreyscale_filesize.txt\n"
     ]
    }
   ],
   "source": [
    "# process non grayscale with color attribute it them\n",
    "!cat withcolor.txt |grep -v \"Gray\"|cut -d\" \" -f1,3 > withc_nongreyscale_filesize.txt\n",
    "!wc -l withc_nongreyscale_filesize.txt"
   ]
  },
  {
   "cell_type": "code",
   "execution_count": 32,
   "metadata": {},
   "outputs": [
    {
     "name": "stdout",
     "output_type": "stream",
     "text": [
      "469753 filesize.txt\n",
      "470586 filesize.txt\n"
     ]
    }
   ],
   "source": [
    "# join them together\n",
    "!wc -l filesize.txt\n",
    "!cat withc_greyscale_filesize.txt >> filesize.txt\n",
    "!cat withc_nongreyscale_filesize.txt >> filesize.txt\n",
    "!wc -l filesize.txt"
   ]
  },
  {
   "cell_type": "code",
   "execution_count": 33,
   "metadata": {},
   "outputs": [
    {
     "name": "stdout",
     "output_type": "stream",
     "text": [
      "934\n"
     ]
    }
   ],
   "source": [
    "# number of huge files\n",
    "!grep \"MB\" filesize.txt |wc -l"
   ]
  },
  {
   "cell_type": "code",
   "execution_count": 34,
   "metadata": {},
   "outputs": [
    {
     "name": "stdout",
     "output_type": "stream",
     "text": [
      "470586 filesize.txt\n"
     ]
    }
   ],
   "source": [
    "# convert MB to KB\n",
    "!cp filesize.txt filesize.txt.tmp\n",
    "!grep -v \"MB\" filesize.txt.tmp > filesize.txt\n",
    "!grep \"MB\" filesize.txt.tmp |sed -e \"s/MB/KB/g;s/\\.//g\" >> filesize.txt\n",
    "!wc -l filesize.txt"
   ]
  },
  {
   "cell_type": "code",
   "execution_count": 35,
   "metadata": {},
   "outputs": [
    {
     "name": "stdout",
     "output_type": "stream",
     "text": [
      "72\n",
      "470586 filesize.txt\n"
     ]
    }
   ],
   "source": [
    "# convert B to KB\n",
    "!cp filesize.txt filesize.txt.tmp\n",
    "!grep \"KB\" filesize.txt.tmp > filesize.txt\n",
    "!grep -v \"KB\" filesize.txt.tmp|wc -l\n",
    "!grep -v \"KB\" filesize.txt.tmp|sed -e \"s/B/KB/g;s/\\ / 0./g\" >> filesize.txt\n",
    "!wc -l filesize.txt"
   ]
  },
  {
   "cell_type": "code",
   "execution_count": 77,
   "metadata": {},
   "outputs": [
    {
     "name": "stdout",
     "output_type": "stream",
     "text": [
      "470586\n"
     ]
    }
   ],
   "source": [
    "!cat filesize.txt|wc -l"
   ]
  },
  {
   "cell_type": "code",
   "execution_count": 78,
   "metadata": {},
   "outputs": [
    {
     "name": "stdout",
     "output_type": "stream",
     "text": [
      "945.25\n"
     ]
    }
   ],
   "source": [
    "# average image width\n",
    "!cat filesize.txt |cut -d\"x\" -f1|awk '{sum+=$1}END{print sum/NR}'"
   ]
  },
  {
   "cell_type": "code",
   "execution_count": 79,
   "metadata": {},
   "outputs": [
    {
     "name": "stdout",
     "output_type": "stream",
     "text": [
      "916.275\n"
     ]
    }
   ],
   "source": [
    "#average height width\n",
    "!cat filesize.txt |cut -d\"x\" -f2|cut -d\" \" -f1|awk '{sum+=$1}END{print sum/NR}'"
   ]
  },
  {
   "cell_type": "code",
   "execution_count": 80,
   "metadata": {},
   "outputs": [],
   "source": [
    "# for better analysis this is converted into a csv file\n",
    "!echo \"width,height,size\" > filesize.csv\n",
    "!cat filesize.txt |sed -e \"s/ /,/g\"|sed -e \"s/x/,/g\" >> filesize.csv"
   ]
  },
  {
   "cell_type": "code",
   "execution_count": 81,
   "metadata": {},
   "outputs": [
    {
     "name": "stdout",
     "output_type": "stream",
     "text": [
      "width,height,size\n"
     ]
    }
   ],
   "source": [
    "# find outliers\n",
    "!grep -v \"KB\" filesize.csv |tail"
   ]
  },
  {
   "cell_type": "code",
   "execution_count": 7,
   "metadata": {},
   "outputs": [],
   "source": [
    "# remove KB\n",
    "!cp filesize.csv filesize.csv.tmp\n",
    "!cat filesize.csv.tmp |sed -e \"s/KB//g\" > filesize.csv"
   ]
  },
  {
   "cell_type": "code",
   "execution_count": 8,
   "metadata": {},
   "outputs": [],
   "source": [
    "img_df = pd.read_csv(\"filesize.csv\")"
   ]
  },
  {
   "cell_type": "code",
   "execution_count": 10,
   "metadata": {},
   "outputs": [
    {
     "data": {
      "text/html": [
       "<div>\n",
       "<style scoped>\n",
       "    .dataframe tbody tr th:only-of-type {\n",
       "        vertical-align: middle;\n",
       "    }\n",
       "\n",
       "    .dataframe tbody tr th {\n",
       "        vertical-align: top;\n",
       "    }\n",
       "\n",
       "    .dataframe thead th {\n",
       "        text-align: right;\n",
       "    }\n",
       "</style>\n",
       "<table border=\"1\" class=\"dataframe\">\n",
       "  <thead>\n",
       "    <tr style=\"text-align: right;\">\n",
       "      <th></th>\n",
       "      <th>width</th>\n",
       "      <th>height</th>\n",
       "      <th>size</th>\n",
       "    </tr>\n",
       "  </thead>\n",
       "  <tbody>\n",
       "    <tr>\n",
       "      <th>count</th>\n",
       "      <td>470586.000000</td>\n",
       "      <td>470586.000000</td>\n",
       "      <td>470586.000000</td>\n",
       "    </tr>\n",
       "    <tr>\n",
       "      <th>mean</th>\n",
       "      <td>945.249831</td>\n",
       "      <td>916.275236</td>\n",
       "      <td>142.535236</td>\n",
       "    </tr>\n",
       "    <tr>\n",
       "      <th>std</th>\n",
       "      <td>503.529904</td>\n",
       "      <td>556.499248</td>\n",
       "      <td>156.661189</td>\n",
       "    </tr>\n",
       "    <tr>\n",
       "      <th>min</th>\n",
       "      <td>4.000000</td>\n",
       "      <td>5.000000</td>\n",
       "      <td>0.361000</td>\n",
       "    </tr>\n",
       "    <tr>\n",
       "      <th>25%</th>\n",
       "      <td>600.000000</td>\n",
       "      <td>480.000000</td>\n",
       "      <td>43.000000</td>\n",
       "    </tr>\n",
       "    <tr>\n",
       "      <th>50%</th>\n",
       "      <td>768.000000</td>\n",
       "      <td>760.000000</td>\n",
       "      <td>86.100000</td>\n",
       "    </tr>\n",
       "    <tr>\n",
       "      <th>75%</th>\n",
       "      <td>1200.000000</td>\n",
       "      <td>1280.000000</td>\n",
       "      <td>176.000000</td>\n",
       "    </tr>\n",
       "    <tr>\n",
       "      <th>max</th>\n",
       "      <td>2048.000000</td>\n",
       "      <td>2048.000000</td>\n",
       "      <td>3065.000000</td>\n",
       "    </tr>\n",
       "  </tbody>\n",
       "</table>\n",
       "</div>"
      ],
      "text/plain": [
       "               width         height           size\n",
       "count  470586.000000  470586.000000  470586.000000\n",
       "mean      945.249831     916.275236     142.535236\n",
       "std       503.529904     556.499248     156.661189\n",
       "min         4.000000       5.000000       0.361000\n",
       "25%       600.000000     480.000000      43.000000\n",
       "50%       768.000000     760.000000      86.100000\n",
       "75%      1200.000000    1280.000000     176.000000\n",
       "max      2048.000000    2048.000000    3065.000000"
      ]
     },
     "execution_count": 10,
     "metadata": {},
     "output_type": "execute_result"
    }
   ],
   "source": [
    "# height description\n",
    "img_df.describe()"
   ]
  },
  {
   "cell_type": "code",
   "execution_count": 42,
   "metadata": {},
   "outputs": [
    {
     "data": {
      "image/png": "[encoded data removed]",
      "text/plain": [
       "<matplotlib.figure.Figure at 0x7fa4776742b0>"
      ]
     },
     "metadata": {},
     "output_type": "display_data"
    }
   ],
   "source": [
    "plt.hist(img_df.height, alpha=0.5)\n",
    "plt.xticks(rotation=45)\n",
    "plt.ylabel('Frequency')\n",
    "plt.xlabel('Image size in pixel')\n",
    "plt.title('Image Heigh Comparision')\n",
    "plt.grid(True)\n",
    "plt.savefig('../imgs/image_height_chart.png')\n",
    "plt.show()"
   ]
  },
  {
   "cell_type": "code",
   "execution_count": 43,
   "metadata": {},
   "outputs": [
    {
     "data": {
      "image/png": "[encoded data removed]",
      "text/plain": [
       "<matplotlib.figure.Figure at 0x7fa47766cda0>"
      ]
     },
     "metadata": {},
     "output_type": "display_data"
    }
   ],
   "source": [
    "plt.hist(img_df.width, alpha=0.5)\n",
    "plt.xticks(rotation=45)\n",
    "plt.ylabel('Frequency')\n",
    "plt.xlabel('Image size in pixel')\n",
    "plt.title('Image Width Comparision')\n",
    "plt.grid(True)\n",
    "plt.savefig('../imgs/image_width_chart.png')\n",
    "plt.show()"
   ]
  },
  {
   "cell_type": "code",
   "execution_count": 46,
   "metadata": {},
   "outputs": [
    {
     "data": {
      "image/png": "[encoded data removed]",
      "text/plain": [
       "<matplotlib.figure.Figure at 0x7fa477433668>"
      ]
     },
     "metadata": {},
     "output_type": "display_data"
    }
   ],
   "source": [
    "img_df['size'].plot(kind='hist')\n",
    "\n",
    "plt.hist(img_df['size'], alpha=0.5)\n",
    "plt.xticks(rotation=45)\n",
    "plt.ylabel('Frequency')\n",
    "plt.xlabel('Image size in KB')\n",
    "plt.title('Image Disk Size Comparision')\n",
    "plt.grid(True)\n",
    "plt.savefig('../imgs/image_filesize_chart.png')\n",
    "plt.show()"
   ]
  },
  {
   "cell_type": "code",
   "execution_count": null,
   "metadata": {},
   "outputs": [],
   "source": []
  }
 ],
 "metadata": {
  "kernelspec": {
   "display_name": "dog-project",
   "language": "python",
   "name": "dog-project"
  },
  "language_info": {
   "codemirror_mode": {
    "name": "ipython",
    "version": 3
   },
   "file_extension": ".py",
   "mimetype": "text/x-python",
   "name": "python",
   "nbconvert_exporter": "python",
   "pygments_lexer": "ipython3",
   "version": "3.6.1"
  }
 },
 "nbformat": 4,
 "nbformat_minor": 2
}
