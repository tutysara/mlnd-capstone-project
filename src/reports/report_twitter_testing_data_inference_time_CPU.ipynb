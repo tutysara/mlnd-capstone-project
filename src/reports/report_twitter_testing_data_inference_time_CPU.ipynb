{
 "cells": [
  {
   "cell_type": "code",
   "execution_count": 1,
   "metadata": {},
   "outputs": [
    {
     "name": "stderr",
     "output_type": "stream",
     "text": [
      "Using TensorFlow backend.\n"
     ]
    }
   ],
   "source": [
    "import sys\n",
    "sys.path.append('..')\n",
    "\n",
    "from keras.utils import np_utils\n",
    "import numpy as np\n",
    "from matplotlib import pyplot as plt\n",
    "import seaborn as sns\n",
    "import shutil\n",
    "import importlib\n",
    "\n",
    "%matplotlib inline\n",
    "from sklearn.datasets import load_files\n",
    "import pandas as pd\n",
    "pd.set_option(\"display.max_colwidth\", 75)\n",
    "\n",
    "from keras.applications.imagenet_utils import preprocess_input\n",
    "\n",
    "from util import paths_to_tensor\n",
    "\n",
    "import tensorflow as tf\n",
    "session_conf = tf.ConfigProto(\n",
    "          device_count={'CPU': 1, 'GPU': 0},\n",
    "          allow_soft_placement=True,\n",
    "          log_device_placement=False\n",
    ")\n",
    "sess = tf.Session(config = session_conf)\n",
    "\n",
    "\n",
    "#sys.path.append('mobilenet')\n",
    "#sys.path.append('inceptionresnetv2')\n",
    "\n",
    "%load_ext autoreload\n",
    "%autoreload 2"
   ]
  },
  {
   "cell_type": "code",
   "execution_count": 2,
   "metadata": {},
   "outputs": [
    {
     "name": "stdout",
     "output_type": "stream",
     "text": [
      "(882, 2)\n"
     ]
    },
    {
     "data": {
      "text/html": [
       "<div>\n",
       "<style scoped>\n",
       "    .dataframe tbody tr th:only-of-type {\n",
       "        vertical-align: middle;\n",
       "    }\n",
       "\n",
       "    .dataframe tbody tr th {\n",
       "        vertical-align: top;\n",
       "    }\n",
       "\n",
       "    .dataframe thead th {\n",
       "        text-align: right;\n",
       "    }\n",
       "</style>\n",
       "<table border=\"1\" class=\"dataframe\">\n",
       "  <thead>\n",
       "    <tr style=\"text-align: right;\">\n",
       "      <th></th>\n",
       "      <th>X</th>\n",
       "      <th>y</th>\n",
       "    </tr>\n",
       "  </thead>\n",
       "  <tbody>\n",
       "    <tr>\n",
       "      <th>0</th>\n",
       "      <td>/home/tutysara/src/myprojects/senti/dataset/Agg_AMT_Candidates/28800526...</td>\n",
       "      <td>0</td>\n",
       "    </tr>\n",
       "    <tr>\n",
       "      <th>1</th>\n",
       "      <td>/home/tutysara/src/myprojects/senti/dataset/Agg_AMT_Candidates/33547480...</td>\n",
       "      <td>1</td>\n",
       "    </tr>\n",
       "    <tr>\n",
       "      <th>2</th>\n",
       "      <td>/home/tutysara/src/myprojects/senti/dataset/Agg_AMT_Candidates/27176682...</td>\n",
       "      <td>1</td>\n",
       "    </tr>\n",
       "    <tr>\n",
       "      <th>3</th>\n",
       "      <td>/home/tutysara/src/myprojects/senti/dataset/Agg_AMT_Candidates/10096570...</td>\n",
       "      <td>1</td>\n",
       "    </tr>\n",
       "    <tr>\n",
       "      <th>4</th>\n",
       "      <td>/home/tutysara/src/myprojects/senti/dataset/Agg_AMT_Candidates/13247920...</td>\n",
       "      <td>1</td>\n",
       "    </tr>\n",
       "  </tbody>\n",
       "</table>\n",
       "</div>"
      ],
      "text/plain": [
       "                                                                            X  \\\n",
       "0  /home/tutysara/src/myprojects/senti/dataset/Agg_AMT_Candidates/28800526...   \n",
       "1  /home/tutysara/src/myprojects/senti/dataset/Agg_AMT_Candidates/33547480...   \n",
       "2  /home/tutysara/src/myprojects/senti/dataset/Agg_AMT_Candidates/27176682...   \n",
       "3  /home/tutysara/src/myprojects/senti/dataset/Agg_AMT_Candidates/10096570...   \n",
       "4  /home/tutysara/src/myprojects/senti/dataset/Agg_AMT_Candidates/13247920...   \n",
       "\n",
       "   y  \n",
       "0  0  \n",
       "1  1  \n",
       "2  1  \n",
       "3  1  \n",
       "4  1  "
      ]
     },
     "execution_count": 2,
     "metadata": {},
     "output_type": "execute_result"
    }
   ],
   "source": [
    "# load TTD\n",
    "ttd_basedir=\"/home/tutysara/src/myprojects/senti/dataset\"\n",
    "ttd_data_idx_path = ttd_basedir+ \"/twitter_five_agrees.txt\"\n",
    "col_names = [\"X\", \"y\"]\n",
    "ttd_data_df = pd.read_csv(ttd_data_idx_path, sep=\" \", header=None, names=col_names)\n",
    "ttd_data_df.X = ttd_data_df.X.apply(lambda x: ttd_basedir+\"/Agg_AMT_Candidates/\"+x)\n",
    "print(ttd_data_df.shape)\n",
    "ttd_data_df.head()"
   ]
  },
  {
   "cell_type": "code",
   "execution_count": 3,
   "metadata": {},
   "outputs": [],
   "source": [
    "# work on twitter training dataset\n",
    "# 3 agree, 4 agree, 5 agree\n",
    "\n",
    "# report test accuracy on TTD\n",
    "ttd_X1 = ttd_data_df.X.as_matrix()\n",
    "ttd_X2 = preprocess_input(paths_to_tensor(ttd_X1))"
   ]
  },
  {
   "cell_type": "code",
   "execution_count": 4,
   "metadata": {},
   "outputs": [],
   "source": [
    "def predict(model, n_samples=25):\n",
    "    indices = np.random.permutation(ttd_X2.shape[0])\n",
    "    indices_selected = indices[:n_samples]\n",
    "    ttd_y_pred = model.predict(ttd_X2[indices_selected])  \n",
    "    ttd_y_pred_two_classes=ttd_y_pred[:,[0,2]]\n",
    "    ttd_y_true = ttd_data_df.y.as_matrix()[indices_selected]\n",
    "    ttd_test_accuracy = 100*np.sum(np.argmax(ttd_y_pred_two_classes, axis=1)==ttd_y_true)/len(ttd_y_true)\n",
    "    print('TTD Test accuracy: %.4f%%' % ttd_test_accuracy)"
   ]
  },
  {
   "cell_type": "code",
   "execution_count": 5,
   "metadata": {},
   "outputs": [
    {
     "name": "stdout",
     "output_type": "stream",
     "text": [
      "n_samples 15\n"
     ]
    }
   ],
   "source": [
    "#n_samples=len(ttd_X1)\n",
    "n_samples=15\n",
    "print('n_samples', n_samples)"
   ]
  },
  {
   "cell_type": "code",
   "execution_count": 6,
   "metadata": {},
   "outputs": [
    {
     "name": "stdout",
     "output_type": "stream",
     "text": [
      "WARNING:tensorflow:From /home/tutysara/anaconda2/envs/dog-project/lib/python3.6/site-packages/keras/backend/tensorflow_backend.py:1264: calling reduce_prod (from tensorflow.python.ops.math_ops) with keep_dims is deprecated and will be removed in a future version.\n",
      "Instructions for updating:\n",
      "keep_dims is deprecated, use keepdims instead\n"
     ]
    }
   ],
   "source": [
    "from vgg19.vgg19_caffe_model import get_model\n",
    "vgg_model = get_model(num_classes=3)"
   ]
  },
  {
   "cell_type": "code",
   "execution_count": 7,
   "metadata": {},
   "outputs": [],
   "source": [
    "vgg_model.load_weights(\"../vgg19/saved_models/fc_layers_caffe_vgg19_weights.hdf5\")\n"
   ]
  },
  {
   "cell_type": "code",
   "execution_count": 8,
   "metadata": {},
   "outputs": [
    {
     "name": "stdout",
     "output_type": "stream",
     "text": [
      "TTD Test accuracy: 80.0000%\n",
      "TTD Test accuracy: 73.3333%\n",
      "TTD Test accuracy: 60.0000%\n",
      "TTD Test accuracy: 86.6667%\n",
      "TTD Test accuracy: 73.3333%\n",
      "TTD Test accuracy: 60.0000%\n",
      "TTD Test accuracy: 80.0000%\n",
      "TTD Test accuracy: 66.6667%\n",
      "10.4 s ± 14.2 ms per loop (mean ± std. dev. of 7 runs, 1 loop each)\n"
     ]
    }
   ],
   "source": [
    "%%timeit\n",
    "predict(vgg_model, n_samples=n_samples)"
   ]
  },
  {
   "cell_type": "code",
   "execution_count": 9,
   "metadata": {},
   "outputs": [],
   "source": [
    "vgg_model.load_weights(\"../vgg19/saved_models/all_layers_caffe_vgg19_weights.hdf5\")"
   ]
  },
  {
   "cell_type": "code",
   "execution_count": 10,
   "metadata": {},
   "outputs": [
    {
     "name": "stdout",
     "output_type": "stream",
     "text": [
      "TTD Test accuracy: 73.3333%\n",
      "TTD Test accuracy: 93.3333%\n",
      "TTD Test accuracy: 73.3333%\n",
      "TTD Test accuracy: 93.3333%\n",
      "TTD Test accuracy: 53.3333%\n",
      "TTD Test accuracy: 80.0000%\n",
      "TTD Test accuracy: 80.0000%\n",
      "TTD Test accuracy: 73.3333%\n",
      "10.4 s ± 45.8 ms per loop (mean ± std. dev. of 7 runs, 1 loop each)\n"
     ]
    }
   ],
   "source": [
    "%%timeit\n",
    "predict(vgg_model, n_samples=n_samples)"
   ]
  },
  {
   "cell_type": "code",
   "execution_count": 11,
   "metadata": {},
   "outputs": [
    {
     "name": "stdout",
     "output_type": "stream",
     "text": [
      "WARNING:tensorflow:From /home/tutysara/anaconda2/envs/dog-project/lib/python3.6/site-packages/keras/backend/tensorflow_backend.py:1349: calling reduce_mean (from tensorflow.python.ops.math_ops) with keep_dims is deprecated and will be removed in a future version.\n",
      "Instructions for updating:\n",
      "keep_dims is deprecated, use keepdims instead\n",
      "WARNING:tensorflow:From /home/tutysara/anaconda2/envs/dog-project/lib/python3.6/site-packages/keras/backend/tensorflow_backend.py:1213: calling reduce_max (from tensorflow.python.ops.math_ops) with keep_dims is deprecated and will be removed in a future version.\n",
      "Instructions for updating:\n",
      "keep_dims is deprecated, use keepdims instead\n",
      "WARNING:tensorflow:From /home/tutysara/anaconda2/envs/dog-project/lib/python3.6/site-packages/keras/backend/tensorflow_backend.py:1247: calling reduce_sum (from tensorflow.python.ops.math_ops) with keep_dims is deprecated and will be removed in a future version.\n",
      "Instructions for updating:\n",
      "keep_dims is deprecated, use keepdims instead\n"
     ]
    }
   ],
   "source": [
    "from mobilenet.mobilenet_model import get_model\n",
    "mobilenet_model = get_model(num_classes=3)"
   ]
  },
  {
   "cell_type": "code",
   "execution_count": 12,
   "metadata": {},
   "outputs": [],
   "source": [
    "mobilenet_model.load_weights(\"../mobilenet/saved_models/fc_layers_mobilenet_weights.hdf5\")\n"
   ]
  },
  {
   "cell_type": "code",
   "execution_count": 13,
   "metadata": {},
   "outputs": [
    {
     "name": "stdout",
     "output_type": "stream",
     "text": [
      "TTD Test accuracy: 66.6667%\n",
      "TTD Test accuracy: 53.3333%\n",
      "TTD Test accuracy: 86.6667%\n",
      "TTD Test accuracy: 80.0000%\n",
      "TTD Test accuracy: 100.0000%\n",
      "TTD Test accuracy: 73.3333%\n",
      "TTD Test accuracy: 53.3333%\n",
      "TTD Test accuracy: 80.0000%\n",
      "1.78 s ± 22.5 ms per loop (mean ± std. dev. of 7 runs, 1 loop each)\n"
     ]
    }
   ],
   "source": [
    "%%timeit\n",
    "predict(mobilenet_model, n_samples=n_samples)"
   ]
  },
  {
   "cell_type": "code",
   "execution_count": 14,
   "metadata": {},
   "outputs": [],
   "source": [
    "mobilenet_model.load_weights(\"../mobilenet/saved_models/all_layers_mobilenet_weights.hdf5\")\n"
   ]
  },
  {
   "cell_type": "code",
   "execution_count": 15,
   "metadata": {},
   "outputs": [
    {
     "name": "stdout",
     "output_type": "stream",
     "text": [
      "TTD Test accuracy: 66.6667%\n",
      "TTD Test accuracy: 73.3333%\n",
      "TTD Test accuracy: 93.3333%\n",
      "TTD Test accuracy: 66.6667%\n",
      "TTD Test accuracy: 80.0000%\n",
      "TTD Test accuracy: 73.3333%\n",
      "TTD Test accuracy: 93.3333%\n",
      "TTD Test accuracy: 73.3333%\n",
      "1.78 s ± 12.7 ms per loop (mean ± std. dev. of 7 runs, 1 loop each)\n"
     ]
    }
   ],
   "source": [
    "%%timeit\n",
    "predict(mobilenet_model, n_samples=n_samples)"
   ]
  },
  {
   "cell_type": "code",
   "execution_count": 16,
   "metadata": {},
   "outputs": [
    {
     "name": "stdout",
     "output_type": "stream",
     "text": [
      "Tensor(\"conv_7b_ac/Relu:0\", shape=(?, 5, 5, 1536), dtype=float32)\n"
     ]
    }
   ],
   "source": [
    "from inceptionresnetv2.inceptionresnetv2_model import get_model\n",
    "inceptionresntv2_model = get_model(num_classes=3)"
   ]
  },
  {
   "cell_type": "code",
   "execution_count": 17,
   "metadata": {},
   "outputs": [],
   "source": [
    "inceptionresntv2_model.load_weights(\"../inceptionresnetv2/saved_models/fc_layers_inceptionresnetv2_weights.hdf5\")\n"
   ]
  },
  {
   "cell_type": "code",
   "execution_count": 18,
   "metadata": {},
   "outputs": [
    {
     "name": "stdout",
     "output_type": "stream",
     "text": [
      "TTD Test accuracy: 53.3333%\n",
      "TTD Test accuracy: 60.0000%\n",
      "TTD Test accuracy: 66.6667%\n",
      "TTD Test accuracy: 80.0000%\n",
      "TTD Test accuracy: 73.3333%\n",
      "TTD Test accuracy: 73.3333%\n",
      "TTD Test accuracy: 66.6667%\n",
      "TTD Test accuracy: 53.3333%\n",
      "5.25 s ± 10.5 ms per loop (mean ± std. dev. of 7 runs, 1 loop each)\n"
     ]
    }
   ],
   "source": [
    "%%timeit\n",
    "predict(inceptionresntv2_model, n_samples=n_samples)"
   ]
  },
  {
   "cell_type": "code",
   "execution_count": 19,
   "metadata": {},
   "outputs": [],
   "source": [
    "inceptionresntv2_model.load_weights(\"../inceptionresnetv2/saved_models/all_layers_inceptionresnetv2_weights.hdf5\")\n"
   ]
  },
  {
   "cell_type": "code",
   "execution_count": 20,
   "metadata": {},
   "outputs": [
    {
     "name": "stdout",
     "output_type": "stream",
     "text": [
      "TTD Test accuracy: 66.6667%\n",
      "TTD Test accuracy: 80.0000%\n",
      "TTD Test accuracy: 46.6667%\n",
      "TTD Test accuracy: 73.3333%\n",
      "TTD Test accuracy: 60.0000%\n",
      "TTD Test accuracy: 73.3333%\n",
      "TTD Test accuracy: 73.3333%\n",
      "TTD Test accuracy: 73.3333%\n",
      "5.26 s ± 30 ms per loop (mean ± std. dev. of 7 runs, 1 loop each)\n"
     ]
    }
   ],
   "source": [
    "%%timeit\n",
    "predict(inceptionresntv2_model, n_samples=n_samples)"
   ]
  },
  {
   "cell_type": "code",
   "execution_count": null,
   "metadata": {},
   "outputs": [],
   "source": []
  }
 ],
 "metadata": {
  "kernelspec": {
   "display_name": "dog-project",
   "language": "python",
   "name": "dog-project"
  },
  "language_info": {
   "codemirror_mode": {
    "name": "ipython",
    "version": 3
   },
   "file_extension": ".py",
   "mimetype": "text/x-python",
   "name": "python",
   "nbconvert_exporter": "python",
   "pygments_lexer": "ipython3",
   "version": "3.6.1"
  }
 },
 "nbformat": 4,
 "nbformat_minor": 2
}
