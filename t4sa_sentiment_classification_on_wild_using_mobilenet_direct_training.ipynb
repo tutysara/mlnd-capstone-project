{
 "cells": [
  {
   "cell_type": "code",
   "execution_count": 1,
   "metadata": {},
   "outputs": [
    {
     "name": "stderr",
     "output_type": "stream",
     "text": [
      "Using TensorFlow backend.\n",
      "/home/tutysara/anaconda2/envs/dog-project/lib/python3.6/importlib/_bootstrap.py:205: RuntimeWarning: compiletime version 3.5 of module 'tensorflow.python.framework.fast_tensor_util' does not match runtime version 3.6\n",
      "  return f(*args, **kwds)\n"
     ]
    }
   ],
   "source": [
    "from keras.utils import np_utils\n",
    "import numpy as np\n",
    "from matplotlib import pyplot\n",
    "import seaborn as sns\n",
    "%matplotlib inline\n",
    "\n",
    "# Display progress logs on stdout\n",
    "#import logging\n",
    "#logging.basicConfig(level=logging.DEBUG,\n",
    "#                    format='%(asctime)s %(levelname)s %(message)s')\n",
    "\n",
    "from sklearn.datasets import load_files\n",
    "import pandas as pd\n",
    "pd.set_option(\"display.max_colwidth\", 75)\n",
    "\n",
    "import tensorflow as tf\n",
    "config = tf.ConfigProto()\n",
    "config.gpu_options.allow_growth = True\n",
    "sess = tf.Session(config = config)"
   ]
  },
  {
   "cell_type": "raw",
   "metadata": {},
   "source": [
    "# make the csv files for dog project\n",
    "cd dogImages\n",
    "for filename in $(find train|grep .jpg); do\n",
    "    label=$(echo $filename| cut -d'/' -f 2)\n",
    "    label_num=$(echo $label| cut -d'.' -f 1)\n",
    "    echo \"$filename $label_num\"\n",
    "done"
   ]
  },
  {
   "cell_type": "raw",
   "metadata": {},
   "source": [
    "# define function to load train, test, and validation datasets\n",
    "basedir=\"/home/tutysara/src/myprojects/t4sa/data\"\n",
    "train_idx_path = basedir+ \"/b-t4sa_train.txt\"\n",
    "valid_idx_path = basedir+ \"/b-t4sa_val.txt\"\n",
    "test_idx_path = basedir+ \"/b-t4sa_test.txt\"\n",
    "\n",
    "\n",
    "col_names = [\"X\", \"y\"]\n",
    "percent = 1\n",
    "train_data_df = pd.read_csv(train_idx_path, sep=\" \", header=None, names=col_names)\n",
    "valid_data_df = pd.read_csv(valid_idx_path, sep=\" \", header=None, names=col_names)\n",
    "test_data_df = pd.read_csv(test_idx_path, sep=\" \", header=None, names=col_names)\n",
    "\n",
    "train_data_df = train_data_df[:int(train_data_df.shape[0]*percent)]\n",
    "valid_data_df = valid_data_df[:int(valid_data_df.shape[0]*percent)]\n",
    "test_data_df = test_data_df[:int(test_data_df.shape[0]*percent)]"
   ]
  },
  {
   "cell_type": "code",
   "execution_count": 2,
   "metadata": {},
   "outputs": [],
   "source": [
    "basedir=\"/home/tutysara/src/myprojects/dog-project/dogImages\"\n",
    "train_idx_path = basedir+ \"/train_list.txt\"\n",
    "valid_idx_path = basedir+ \"/valid_list.txt\"\n",
    "test_idx_path = basedir+ \"/test_list.txt\"\n",
    "\n",
    "\n",
    "col_names = [\"X\", \"y\"]\n",
    "train_data_df = pd.read_csv(train_idx_path, sep=\" \", header=None, names=col_names)\n",
    "train_data_df.y = train_data_df.y-1\n",
    "valid_data_df = pd.read_csv(valid_idx_path, sep=\" \", header=None, names=col_names)\n",
    "valid_data_df.y = valid_data_df.y-1\n",
    "test_data_df = pd.read_csv(test_idx_path, sep=\" \", header=None, names=col_names)\n",
    "test_data_df.y = test_data_df.y-1"
   ]
  },
  {
   "cell_type": "code",
   "execution_count": 3,
   "metadata": {},
   "outputs": [
    {
     "data": {
      "text/html": [
       "<div>\n",
       "<style scoped>\n",
       "    .dataframe tbody tr th:only-of-type {\n",
       "        vertical-align: middle;\n",
       "    }\n",
       "\n",
       "    .dataframe tbody tr th {\n",
       "        vertical-align: top;\n",
       "    }\n",
       "\n",
       "    .dataframe thead th {\n",
       "        text-align: right;\n",
       "    }\n",
       "</style>\n",
       "<table border=\"1\" class=\"dataframe\">\n",
       "  <thead>\n",
       "    <tr style=\"text-align: right;\">\n",
       "      <th></th>\n",
       "      <th>X</th>\n",
       "      <th>y</th>\n",
       "    </tr>\n",
       "  </thead>\n",
       "  <tbody>\n",
       "    <tr>\n",
       "      <th>0</th>\n",
       "      <td>test/075.Glen_of_imaal_terrier/Glen_of_imaal_terrier_05148.jpg</td>\n",
       "      <td>74</td>\n",
       "    </tr>\n",
       "    <tr>\n",
       "      <th>1</th>\n",
       "      <td>test/075.Glen_of_imaal_terrier/Glen_of_imaal_terrier_05143.jpg</td>\n",
       "      <td>74</td>\n",
       "    </tr>\n",
       "    <tr>\n",
       "      <th>2</th>\n",
       "      <td>test/075.Glen_of_imaal_terrier/Glen_of_imaal_terrier_05164.jpg</td>\n",
       "      <td>74</td>\n",
       "    </tr>\n",
       "    <tr>\n",
       "      <th>3</th>\n",
       "      <td>test/075.Glen_of_imaal_terrier/Glen_of_imaal_terrier_05129.jpg</td>\n",
       "      <td>74</td>\n",
       "    </tr>\n",
       "    <tr>\n",
       "      <th>4</th>\n",
       "      <td>test/075.Glen_of_imaal_terrier/Glen_of_imaal_terrier_05149.jpg</td>\n",
       "      <td>74</td>\n",
       "    </tr>\n",
       "  </tbody>\n",
       "</table>\n",
       "</div>"
      ],
      "text/plain": [
       "                                                                X   y\n",
       "0  test/075.Glen_of_imaal_terrier/Glen_of_imaal_terrier_05148.jpg  74\n",
       "1  test/075.Glen_of_imaal_terrier/Glen_of_imaal_terrier_05143.jpg  74\n",
       "2  test/075.Glen_of_imaal_terrier/Glen_of_imaal_terrier_05164.jpg  74\n",
       "3  test/075.Glen_of_imaal_terrier/Glen_of_imaal_terrier_05129.jpg  74\n",
       "4  test/075.Glen_of_imaal_terrier/Glen_of_imaal_terrier_05149.jpg  74"
      ]
     },
     "execution_count": 3,
     "metadata": {},
     "output_type": "execute_result"
    }
   ],
   "source": [
    "test_data_df.head()"
   ]
  },
  {
   "cell_type": "code",
   "execution_count": 4,
   "metadata": {},
   "outputs": [
    {
     "name": "stdout",
     "output_type": "stream",
     "text": [
      "(6680, 2)\n",
      "(835, 2)\n",
      "(836, 2)\n",
      "8351\n"
     ]
    },
    {
     "data": {
      "text/html": [
       "<div>\n",
       "<style scoped>\n",
       "    .dataframe tbody tr th:only-of-type {\n",
       "        vertical-align: middle;\n",
       "    }\n",
       "\n",
       "    .dataframe tbody tr th {\n",
       "        vertical-align: top;\n",
       "    }\n",
       "\n",
       "    .dataframe thead th {\n",
       "        text-align: right;\n",
       "    }\n",
       "</style>\n",
       "<table border=\"1\" class=\"dataframe\">\n",
       "  <thead>\n",
       "    <tr style=\"text-align: right;\">\n",
       "      <th></th>\n",
       "      <th>X</th>\n",
       "      <th>y</th>\n",
       "    </tr>\n",
       "  </thead>\n",
       "  <tbody>\n",
       "    <tr>\n",
       "      <th>0</th>\n",
       "      <td>test/075.Glen_of_imaal_terrier/Glen_of_imaal_terrier_05148.jpg</td>\n",
       "      <td>74</td>\n",
       "    </tr>\n",
       "    <tr>\n",
       "      <th>1</th>\n",
       "      <td>test/075.Glen_of_imaal_terrier/Glen_of_imaal_terrier_05143.jpg</td>\n",
       "      <td>74</td>\n",
       "    </tr>\n",
       "    <tr>\n",
       "      <th>2</th>\n",
       "      <td>test/075.Glen_of_imaal_terrier/Glen_of_imaal_terrier_05164.jpg</td>\n",
       "      <td>74</td>\n",
       "    </tr>\n",
       "    <tr>\n",
       "      <th>3</th>\n",
       "      <td>test/075.Glen_of_imaal_terrier/Glen_of_imaal_terrier_05129.jpg</td>\n",
       "      <td>74</td>\n",
       "    </tr>\n",
       "    <tr>\n",
       "      <th>4</th>\n",
       "      <td>test/075.Glen_of_imaal_terrier/Glen_of_imaal_terrier_05149.jpg</td>\n",
       "      <td>74</td>\n",
       "    </tr>\n",
       "  </tbody>\n",
       "</table>\n",
       "</div>"
      ],
      "text/plain": [
       "                                                                X   y\n",
       "0  test/075.Glen_of_imaal_terrier/Glen_of_imaal_terrier_05148.jpg  74\n",
       "1  test/075.Glen_of_imaal_terrier/Glen_of_imaal_terrier_05143.jpg  74\n",
       "2  test/075.Glen_of_imaal_terrier/Glen_of_imaal_terrier_05164.jpg  74\n",
       "3  test/075.Glen_of_imaal_terrier/Glen_of_imaal_terrier_05129.jpg  74\n",
       "4  test/075.Glen_of_imaal_terrier/Glen_of_imaal_terrier_05149.jpg  74"
      ]
     },
     "execution_count": 4,
     "metadata": {},
     "output_type": "execute_result"
    }
   ],
   "source": [
    "print(train_data_df.shape)\n",
    "print(valid_data_df.shape)\n",
    "print(test_data_df.shape)\n",
    "\n",
    "print(train_data_df.shape[0] + valid_data_df.shape[0] + test_data_df.shape[0])\n",
    "sample_df = test_data_df[:5]\n",
    "sample_df"
   ]
  },
  {
   "cell_type": "code",
   "execution_count": 5,
   "metadata": {},
   "outputs": [],
   "source": [
    "# convert and load images\n",
    "from keras.preprocessing import image                  \n",
    "from tqdm import tqdm\n",
    "from PIL import ImageFile                            \n",
    "ImageFile.LOAD_TRUNCATED_IMAGES = True\n",
    "\n",
    "def path_to_tensor(img_path):\n",
    "    # loads RGB image as PIL.Image.Image type\n",
    "    img = image.load_img(img_path, target_size=(224, 224))\n",
    "    # convert PIL.Image.Image type to 3D tensor with shape (224, 224, 3)\n",
    "    x = image.img_to_array(img)\n",
    "    # convert 3D tensor to 4D tensor with shape (1, 224, 224, 3) and return 4D tensor\n",
    "    return np.expand_dims(x, axis=0)\n",
    "\n",
    "def paths_to_tensor(img_paths):\n",
    "    list_of_tensors = [path_to_tensor(img_path) for img_path in img_paths]\n",
    "    return np.vstack(list_of_tensors)"
   ]
  },
  {
   "cell_type": "code",
   "execution_count": 10,
   "metadata": {
    "scrolled": true
   },
   "outputs": [],
   "source": [
    "#definition of data generator\n",
    "def df_data_generator(df, batch_size=32, num_classes=3, shuffle=False, basedir=\".\", transformer=None):    \n",
    "    while True:\n",
    "        if shuffle:\n",
    "            df = df.sample(frac=1)\n",
    "            \n",
    "        X_file_name = df.X.apply(lambda x: basedir+\"/\"+x) \n",
    "        y = np_utils.to_categorical(df.y, num_classes)\n",
    "    # infinitely serve batches\n",
    "        max_range = max(1, df.shape[0]//batch_size)\n",
    "        for i in range(max_range):\n",
    "            if transformer:\n",
    "                yield transformer(X_file_name[i*batch_size : (i+1)*batch_size]).astype('float32'), y[i*batch_size : (i+1)*batch_size]\n",
    "            else:\n",
    "                yield X_file_name[i*batch_size : (i+1)*batch_size], y[i*batch_size : (i+1)*batch_size]\n",
    "                \n",
    "\n",
    "from keras.applications.mobilenet import MobileNet\n",
    "import keras.applications.mobilenet as mobilenet\n",
    "mobilenet_feature_ext = MobileNet(include_top=False, weights='imagenet', input_shape=(224, 224, 3))\n",
    "mobilenet_feature_ext._make_predict_function()\n",
    "\n",
    "def transformer(x):\n",
    "    return mobilenet.preprocess_input(paths_to_tensor(x))\n"
   ]
  },
  {
   "cell_type": "code",
   "execution_count": 12,
   "metadata": {},
   "outputs": [],
   "source": [
    "# load train, test, and validation datasets\n",
    "batch_size=4096\n",
    "train_gen = df_data_generator(train_data_df, batch_size=batch_size, transformer=transformer, basedir=basedir, num_classes=133)\n",
    "valid_gen = df_data_generator(valid_data_df, batch_size=batch_size, transformer=transformer, basedir=basedir, num_classes=133)\n",
    "test_gen = df_data_generator(test_data_df, batch_size=batch_size, transformer=transformer, basedir=basedir, num_classes=133)\n"
   ]
  },
  {
   "cell_type": "code",
   "execution_count": null,
   "metadata": {},
   "outputs": [],
   "source": []
  },
  {
   "cell_type": "code",
   "execution_count": 8,
   "metadata": {},
   "outputs": [
    {
     "name": "stdout",
     "output_type": "stream",
     "text": [
      "_________________________________________________________________\n",
      "Layer (type)                 Output Shape              Param #   \n",
      "=================================================================\n",
      "global_average_pooling2d_1 ( (None, 1024)              0         \n",
      "_________________________________________________________________\n",
      "dropout_1 (Dropout)          (None, 1024)              0         \n",
      "_________________________________________________________________\n",
      "dense_1 (Dense)              (None, 512)               524800    \n",
      "_________________________________________________________________\n",
      "dropout_2 (Dropout)          (None, 512)               0         \n",
      "_________________________________________________________________\n",
      "dense_2 (Dense)              (None, 133)               68229     \n",
      "=================================================================\n",
      "Total params: 593,029\n",
      "Trainable params: 593,029\n",
      "Non-trainable params: 0\n",
      "_________________________________________________________________\n"
     ]
    }
   ],
   "source": [
    "from keras.models import Sequential\n",
    "from keras.layers import Conv2D, MaxPooling2D, GlobalAveragePooling2D\n",
    "from keras.layers import Activation, Dropout, Flatten, Dense\n",
    "from keras import regularizers\n",
    "\n",
    "top_model = Sequential()\n",
    "#model.add(Flatten(input_shape=train_data.shape[1:]))\n",
    "top_model.add(GlobalAveragePooling2D(input_shape=(7, 7, 1024)))\n",
    "top_model.add(Dropout(0.2))\n",
    "top_model.add(Dense(512, activation='relu'))\n",
    "top_model.add(Dropout(0.2))\n",
    "top_model.add(Dense(133, activation='softmax'))\n",
    "\n",
    "top_model.compile(optimizer='adam',\n",
    "              loss='categorical_crossentropy', metrics=['accuracy'])\n",
    "\n",
    "top_model.summary()"
   ]
  },
  {
   "cell_type": "code",
   "execution_count": 13,
   "metadata": {},
   "outputs": [
    {
     "name": "stdout",
     "output_type": "stream",
     "text": [
      "Epoch 1/25\n",
      "2/2 [==============================] - 147s 74s/step - loss: 5.2101 - acc: 0.0117 - val_loss: 4.9619 - val_acc: 0.0695\n",
      "Epoch 2/25\n",
      "2/2 [==============================] - 116s 58s/step - loss: 4.1452 - acc: 0.0823 - val_loss: 4.9488 - val_acc: 0.1533\n",
      "Epoch 3/25\n",
      "2/2 [==============================] - 118s 59s/step - loss: 3.4875 - acc: 0.2073 - val_loss: 4.9017 - val_acc: 0.2539\n",
      "Epoch 4/25\n",
      "2/2 [==============================] - 117s 59s/step - loss: 2.8178 - acc: 0.3470 - val_loss: 4.9476 - val_acc: 0.3389\n",
      "Epoch 5/25\n",
      "2/2 [==============================] - 124s 62s/step - loss: 2.2062 - acc: 0.4668 - val_loss: 5.1437 - val_acc: 0.4012\n",
      "Epoch 00005: early stopping\n"
     ]
    },
    {
     "data": {
      "text/plain": [
       "<keras.callbacks.History at 0x7f4456f43518>"
      ]
     },
     "execution_count": 13,
     "metadata": {},
     "output_type": "execute_result"
    }
   ],
   "source": [
    "from keras.callbacks import EarlyStopping, ModelCheckpoint\n",
    "#checkpointer = ModelCheckpoint(filepath='saved_models/weights.best.topmodel.mobilenet.hdf5', verbose=1, save_best_only=True)\n",
    "early_stopping = EarlyStopping(monitor='val_loss', patience=2, verbose=1)\n",
    "top_model.fit_generator(train_gen,\n",
    "          steps_per_epoch= (1 + (train_data_df.shape[0]// batch_size)),\n",
    "          epochs=25,\n",
    "          validation_data=valid_gen,\n",
    "          validation_steps= (1 + (valid_data_df.shape[0] // batch_size)),\n",
    "          callbacks=[early_stopping])"
   ]
  },
  {
   "cell_type": "code",
   "execution_count": null,
   "metadata": {},
   "outputs": [],
   "source": [
    "from keras.callbacks import EarlyStopping, ModelCheckpoint\n",
    "\n",
    "early_stopping = EarlyStopping(monitor='val_loss', patience=4, verbose=1)\n",
    "top_model.fit(train_data[:250], train_labels[:250],\n",
    "          epochs=25,\n",
    "          batch_size=64,\n",
    "          validation_data=(valid_data[:150], valid_labels[:150]),\n",
    "          callbacks=[early_stopping])"
   ]
  },
  {
   "cell_type": "code",
   "execution_count": null,
   "metadata": {},
   "outputs": [],
   "source": [
    "from keras.callbacks import EarlyStopping, ModelCheckpoint\n",
    "checkpointer = ModelCheckpoint(filepath='saved_models/weights.best.topmodel.mobilenet.hdf5', verbose=1, save_best_only=True)\n",
    "early_stopping = EarlyStopping(monitor='val_loss', patience=4, verbose=1)\n",
    "top_model.fit_generator(train_gen_fex,\n",
    "          steps_per_epoch= (train_data_df.shape[0]// batch_size),\n",
    "          epochs=25,\n",
    "          validation_data=valid_gen_fex,\n",
    "          validation_steps= (valid_data_df.shape[0] // batch_size),\n",
    "          callbacks=[early_stopping, checkpointer])"
   ]
  },
  {
   "cell_type": "code",
   "execution_count": null,
   "metadata": {},
   "outputs": [],
   "source": [
    "# fine tune on full model\n",
    "model = MobileNet(include_top=False, weights='imagenet', input_shape=(224, 224, 3))\n",
    "model.add(top_model)\n",
    "model.compile(loss='categorical_crossentropy',\n",
    "              optimizer=optimizers.SGD(lr=1e-4, momentum=0.9),\n",
    "              metrics=['accuracy'])\n",
    "model.summary()"
   ]
  },
  {
   "cell_type": "code",
   "execution_count": null,
   "metadata": {},
   "outputs": [],
   "source": [
    "from keras.callbacks import EarlyStopping, ModelCheckpoint\n",
    "checkpointer = ModelCheckpoint(filepath='saved_models/weights.best.fullmodel.mobilenet.hdf5', verbose=1, save_best_only=True)\n",
    "early_stopping = EarlyStopping(monitor='val_loss', patience=4, verbose=1)\n",
    "model.fit_generator(train_gen,\n",
    "          steps_per_epoch= (train_data_df.shape[0]// batch_size),\n",
    "          epochs=25,\n",
    "          validation_data=valid_gen,\n",
    "          validation_steps= (valid_data_df.shape[0] // batch_size),\n",
    "          callbacks=[early_stopping, checkpointer])"
   ]
  },
  {
   "cell_type": "code",
   "execution_count": null,
   "metadata": {},
   "outputs": [],
   "source": []
  }
 ],
 "metadata": {
  "kernelspec": {
   "display_name": "Python [conda env:dog-project]",
   "language": "python",
   "name": "conda-env-dog-project-py"
  },
  "language_info": {
   "codemirror_mode": {
    "name": "ipython",
    "version": 3
   },
   "file_extension": ".py",
   "mimetype": "text/x-python",
   "name": "python",
   "nbconvert_exporter": "python",
   "pygments_lexer": "ipython3",
   "version": "3.6.1"
  }
 },
 "nbformat": 4,
 "nbformat_minor": 2
}
